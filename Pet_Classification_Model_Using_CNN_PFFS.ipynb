{
  "cells": [
    {
      "cell_type": "markdown",
      "metadata": {
        "id": "view-in-github",
        "colab_type": "text"
      },
      "source": [
        "<a href=\"https://colab.research.google.com/github/rushikeshkishorkhankar/rushikeshkhankar/blob/main/Pet_Classification_Model_Using_CNN_PFFS.ipynb\" target=\"_parent\"><img src=\"https://colab.research.google.com/assets/colab-badge.svg\" alt=\"Open In Colab\"/></a>"
      ]
    },
    {
      "cell_type": "markdown",
      "metadata": {
        "id": "S97D6vzFouiT"
      },
      "source": [
        "Pet Classification Model Using CNN.\n",
        "\n",
        "\n",
        "DESCRIPTION\n",
        "\n",
        "Project Objective:\n",
        "\n",
        "\n",
        "Build a CNN model that classifies the given pet images correctly into dog and cat images. \n",
        "The project scope document specifies the requirements for the project “Pet Classification Model Using CNN.” Apart from specifying the functional and non-functional requirements for the project, it also serves as an input for project scoping. \n",
        "\n",
        "\n",
        "Project Description and Scope: \n",
        "\n",
        "\n",
        "You are provided with a collection of images of pets, that is, cats and dogs. These images are of different sizes with varied lighting conditions and they should be used as inputs for your model.\n",
        "\n",
        "You are expected to write the code for CNN image classification model using TensorFlow that trains on the data and calculates the accuracy score on the test data. \n",
        "\n",
        "\n",
        "Project Guidelines:\n",
        "\n",
        "\n",
        "Begin by creating the ipynb file in the same parent folder where the downloaded data set is kept. The CNN model should have the following layers: \n",
        "\n",
        "● Input layer \n",
        "\n",
        "● Convolutional layer 1 with 32 filters of kernel size[5,5] \n",
        "\n",
        "● Pooling layer 1 with pool size[2,2] and stride 2 \n",
        "\n",
        "● Convolutional layer 2 with 64 filters of kernel size[5,5] \n",
        "\n",
        "● Pooling layer 2 with pool size[2,2] and stride 2 \n",
        "\n",
        "● Dense layer whose output size is fixed in the hyper parameter: fc_size=32 \n",
        "\n",
        "● Dropout layer with dropout probability 0.4 \n",
        "Predict the class by doing a softmax on the output of the dropout layers. \n",
        "This should be followed by training and evaluation: \n",
        "\n",
        "● For the training step, define the loss function and minimize it \n",
        "\n",
        "● For the evaluation step, calculate the accuracy \n",
        "Run the program for 100, 200, and 300 iterations, respectively. Follow this by a report on the final accuracy and loss on the evaluation data. \n",
        "\n"
      ]
    },
    {
      "cell_type": "markdown",
      "metadata": {
        "id": "MDCmuJkPotpR"
      },
      "source": [
        "Importing Libraries"
      ]
    },
    {
      "cell_type": "code",
      "execution_count": null,
      "metadata": {
        "id": "AIIZ3ic9pb_9"
      },
      "outputs": [],
      "source": [
        "import numpy as np\n",
        "import pandas as pd\n",
        "from keras.preprocessing.image import ImageDataGenerator, load_img\n",
        "from tensorflow.keras.utils import to_categorical\n",
        "import matplotlib.pyplot as plt\n",
        "import random\n",
        "import os\n",
        "import tensorflow as tf\n",
        "from keras import models\n",
        "from keras import layers\n",
        "from keras.models import Sequential\n",
        "from keras.layers import Conv2D, MaxPool2D, Dropout, Flatten, Dense, Activation, BatchNormalization"
      ]
    },
    {
      "cell_type": "markdown",
      "metadata": {
        "id": "4NYimEcHrI7o"
      },
      "source": [
        "Loading Data\n"
      ]
    },
    {
      "cell_type": "code",
      "execution_count": null,
      "metadata": {
        "colab": {
          "base_uri": "https://localhost:8080/"
        },
        "id": "bRbYIGsfrE60",
        "outputId": "32de79de-50f8-4219-b0c6-6c60861d36da"
      },
      "outputs": [
        {
          "name": "stdout",
          "output_type": "stream",
          "text": [
            "Mounted at /content/drive\n"
          ]
        }
      ],
      "source": [
        "from google.colab import drive\n",
        "drive.mount('/content/drive')"
      ]
    },
    {
      "cell_type": "code",
      "execution_count": null,
      "metadata": {
        "id": "t3bTSMyprMuK"
      },
      "outputs": [],
      "source": [
        "dataflow = ImageDataGenerator(rescale=1.0 / 255)"
      ]
    },
    {
      "cell_type": "code",
      "execution_count": null,
      "metadata": {
        "colab": {
          "base_uri": "https://localhost:8080/"
        },
        "id": "YKfYvtDKrUbU",
        "outputId": "763bef7f-ee89-4470-a034-689102659233"
      },
      "outputs": [
        {
          "name": "stdout",
          "output_type": "stream",
          "text": [
            "Found 40 images belonging to 2 classes.\n"
          ]
        }
      ],
      "source": [
        "train = dataflow.flow_from_directory(\"/content/drive/MyDrive/project deep/data/train\", class_mode='binary')"
      ]
    },
    {
      "cell_type": "code",
      "execution_count": null,
      "metadata": {
        "colab": {
          "base_uri": "https://localhost:8080/"
        },
        "id": "4Gx4XPeorjcs",
        "outputId": "2a8ed463-15fd-4d83-88a6-205303dbdeb5"
      },
      "outputs": [
        {
          "name": "stdout",
          "output_type": "stream",
          "text": [
            "Found 20 images belonging to 2 classes.\n"
          ]
        }
      ],
      "source": [
        "test = dataflow.flow_from_directory(\"/content/drive/MyDrive/project deep/data/test\", class_mode='binary')"
      ]
    },
    {
      "cell_type": "code",
      "execution_count": null,
      "metadata": {
        "colab": {
          "base_uri": "https://localhost:8080/"
        },
        "id": "qILo156orpl4",
        "outputId": "1ed99789-0c9c-4fb1-e6cc-ecf2b44167f3"
      },
      "outputs": [
        {
          "data": {
            "text/plain": [
              "array([0, 0, 0, 0, 0, 0, 0, 0, 0, 0, 0, 0, 0, 0, 0, 0, 0, 0, 0, 0, 1, 1,\n",
              "       1, 1, 1, 1, 1, 1, 1, 1, 1, 1, 1, 1, 1, 1, 1, 1, 1, 1], dtype=int32)"
            ]
          },
          "execution_count": 6,
          "metadata": {},
          "output_type": "execute_result"
        }
      ],
      "source": [
        "train.labels"
      ]
    },
    {
      "cell_type": "code",
      "execution_count": null,
      "metadata": {
        "colab": {
          "base_uri": "https://localhost:8080/"
        },
        "id": "mAAn-I-esAQV",
        "outputId": "3724b58a-c341-4199-ca13-4b2d564cc07c"
      },
      "outputs": [
        {
          "data": {
            "text/plain": [
              "array([0, 0, 0, 0, 0, 0, 0, 0, 0, 0, 1, 1, 1, 1, 1, 1, 1, 1, 1, 1],\n",
              "      dtype=int32)"
            ]
          },
          "execution_count": 7,
          "metadata": {},
          "output_type": "execute_result"
        }
      ],
      "source": [
        "test.labels"
      ]
    },
    {
      "cell_type": "code",
      "execution_count": null,
      "metadata": {
        "colab": {
          "base_uri": "https://localhost:8080/"
        },
        "id": "mEUiBoUXsQUr",
        "outputId": "1883acc1-6d87-42b4-ea47-9254a6dbd00f"
      },
      "outputs": [
        {
          "data": {
            "text/plain": [
              "(256, 256, 3)"
            ]
          },
          "execution_count": 8,
          "metadata": {},
          "output_type": "execute_result"
        }
      ],
      "source": [
        "train.image_shape"
      ]
    },
    {
      "cell_type": "code",
      "execution_count": null,
      "metadata": {
        "colab": {
          "base_uri": "https://localhost:8080/"
        },
        "id": "yh3H7YQQsgMU",
        "outputId": "e2fb2656-da4e-472b-b503-92194e94a256"
      },
      "outputs": [
        {
          "data": {
            "text/plain": [
              "(256, 256, 3)"
            ]
          },
          "execution_count": 9,
          "metadata": {},
          "output_type": "execute_result"
        }
      ],
      "source": [
        "test.image_shape"
      ]
    },
    {
      "cell_type": "code",
      "execution_count": null,
      "metadata": {
        "colab": {
          "base_uri": "https://localhost:8080/"
        },
        "id": "nVSnm4Y5tNa4",
        "outputId": "04b557d6-1813-4e8a-9909-eab336493046"
      },
      "outputs": [
        {
          "data": {
            "text/plain": [
              "2"
            ]
          },
          "execution_count": 10,
          "metadata": {},
          "output_type": "execute_result"
        }
      ],
      "source": [
        "len(train)"
      ]
    },
    {
      "cell_type": "code",
      "execution_count": null,
      "metadata": {
        "colab": {
          "base_uri": "https://localhost:8080/"
        },
        "id": "Gw2IXzs_td5L",
        "outputId": "c0f6bb82-2946-4e4b-db05-cdb9672edf64"
      },
      "outputs": [
        {
          "data": {
            "text/plain": [
              "1"
            ]
          },
          "execution_count": 11,
          "metadata": {},
          "output_type": "execute_result"
        }
      ],
      "source": [
        "len(test)"
      ]
    },
    {
      "cell_type": "markdown",
      "metadata": {
        "id": "eVACHPjxt_vv"
      },
      "source": [
        "Build the architecture"
      ]
    },
    {
      "cell_type": "code",
      "execution_count": null,
      "metadata": {
        "id": "5Fh-YuHntwwG"
      },
      "outputs": [],
      "source": [
        "#build the architecture\n",
        "model = models.Sequential()\n",
        "\n",
        "#input layer\n",
        "model.add(layers.Conv2D(32, (5,5), activation='relu', input_shape=(256,256,3)))\n",
        "model.add(layers.Dropout(0.4))\n",
        "model.add(BatchNormalization())\n",
        "#Pooling layer 1 with pool size[2,2] and stride 2\n",
        "model.add(layers.MaxPooling2D(pool_size=(2,2),strides=2))\n",
        "#Convolutional layer 2 with 64 filters of kernel size[5,5]\n",
        "model.add(layers.Conv2D(64, (5,5), activation = 'relu'))\n",
        "model.add(BatchNormalization())\n",
        "#Pooling layer 2 with pool size[2,2] and stride 2\n",
        "model.add(layers.MaxPooling2D(pool_size=(2,2),strides=2))"
      ]
    },
    {
      "cell_type": "code",
      "execution_count": null,
      "metadata": {
        "colab": {
          "base_uri": "https://localhost:8080/"
        },
        "id": "NT7M-MJ808wf",
        "outputId": "0a447805-3579-48ab-c257-7ba6f780ddf4"
      },
      "outputs": [
        {
          "name": "stdout",
          "output_type": "stream",
          "text": [
            "Model: \"sequential\"\n",
            "_________________________________________________________________\n",
            " Layer (type)                Output Shape              Param #   \n",
            "=================================================================\n",
            " conv2d (Conv2D)             (None, 252, 252, 32)      2432      \n",
            "                                                                 \n",
            " dropout (Dropout)           (None, 252, 252, 32)      0         \n",
            "                                                                 \n",
            " batch_normalization (BatchN  (None, 252, 252, 32)     128       \n",
            " ormalization)                                                   \n",
            "                                                                 \n",
            " max_pooling2d (MaxPooling2D  (None, 126, 126, 32)     0         \n",
            " )                                                               \n",
            "                                                                 \n",
            " conv2d_1 (Conv2D)           (None, 122, 122, 64)      51264     \n",
            "                                                                 \n",
            " batch_normalization_1 (Batc  (None, 122, 122, 64)     256       \n",
            " hNormalization)                                                 \n",
            "                                                                 \n",
            " max_pooling2d_1 (MaxPooling  (None, 61, 61, 64)       0         \n",
            " 2D)                                                             \n",
            "                                                                 \n",
            "=================================================================\n",
            "Total params: 54,080\n",
            "Trainable params: 53,888\n",
            "Non-trainable params: 192\n",
            "_________________________________________________________________\n"
          ]
        }
      ],
      "source": [
        "model.summary()"
      ]
    },
    {
      "cell_type": "code",
      "execution_count": null,
      "metadata": {
        "id": "QXJc7ulx1aFh"
      },
      "outputs": [],
      "source": [
        "#Predict the class by doing a softmax on the output of the dropout layers\n",
        "model.add(layers.Flatten())\n",
        "model.add(layers.Dense(32, activation='relu'))\n",
        "model.add(BatchNormalization())\n",
        "model.add(layers.Dense(1, activation='softmax'))\n",
        "model.add(BatchNormalization())\n"
      ]
    },
    {
      "cell_type": "code",
      "execution_count": null,
      "metadata": {
        "colab": {
          "base_uri": "https://localhost:8080/"
        },
        "id": "mALo-t373gNy",
        "outputId": "20ad0a07-2aa5-473f-8ca1-f555d3bddf3c"
      },
      "outputs": [
        {
          "name": "stdout",
          "output_type": "stream",
          "text": [
            "Model: \"sequential\"\n",
            "_________________________________________________________________\n",
            " Layer (type)                Output Shape              Param #   \n",
            "=================================================================\n",
            " conv2d (Conv2D)             (None, 252, 252, 32)      2432      \n",
            "                                                                 \n",
            " dropout (Dropout)           (None, 252, 252, 32)      0         \n",
            "                                                                 \n",
            " batch_normalization (BatchN  (None, 252, 252, 32)     128       \n",
            " ormalization)                                                   \n",
            "                                                                 \n",
            " max_pooling2d (MaxPooling2D  (None, 126, 126, 32)     0         \n",
            " )                                                               \n",
            "                                                                 \n",
            " conv2d_1 (Conv2D)           (None, 122, 122, 64)      51264     \n",
            "                                                                 \n",
            " batch_normalization_1 (Batc  (None, 122, 122, 64)     256       \n",
            " hNormalization)                                                 \n",
            "                                                                 \n",
            " max_pooling2d_1 (MaxPooling  (None, 61, 61, 64)       0         \n",
            " 2D)                                                             \n",
            "                                                                 \n",
            " flatten (Flatten)           (None, 238144)            0         \n",
            "                                                                 \n",
            " dense (Dense)               (None, 32)                7620640   \n",
            "                                                                 \n",
            " batch_normalization_2 (Batc  (None, 32)               128       \n",
            " hNormalization)                                                 \n",
            "                                                                 \n",
            " dense_1 (Dense)             (None, 1)                 33        \n",
            "                                                                 \n",
            " batch_normalization_3 (Batc  (None, 1)                4         \n",
            " hNormalization)                                                 \n",
            "                                                                 \n",
            "=================================================================\n",
            "Total params: 7,674,885\n",
            "Trainable params: 7,674,627\n",
            "Non-trainable params: 258\n",
            "_________________________________________________________________\n"
          ]
        }
      ],
      "source": [
        "model.summary()"
      ]
    },
    {
      "cell_type": "code",
      "execution_count": null,
      "metadata": {
        "id": "J7cZPjm_3iSN"
      },
      "outputs": [],
      "source": [
        "#compile the model\n",
        "model.compile(optimizer='adam',\n",
        "              loss='binary_crossentropy',\n",
        "              metrics=['accuracy'])"
      ]
    },
    {
      "cell_type": "code",
      "execution_count": null,
      "metadata": {
        "colab": {
          "base_uri": "https://localhost:8080/"
        },
        "id": "_8PBqKyT4440",
        "outputId": "58fb1f6d-3457-436c-9b09-217cb7153f73"
      },
      "outputs": [
        {
          "name": "stdout",
          "output_type": "stream",
          "text": [
            "Epoch 1/100\n",
            "2/2 [==============================] - 27s 12s/step - loss: 7.7125 - accuracy: 0.5000 - val_loss: 2.2832 - val_accuracy: 0.5000\n",
            "Epoch 2/100\n",
            "2/2 [==============================] - 0s 364ms/step - loss: 7.7125 - accuracy: 0.5000 - val_loss: 1.9562 - val_accuracy: 0.5000\n",
            "Epoch 3/100\n",
            "2/2 [==============================] - 0s 170ms/step - loss: 7.7125 - accuracy: 0.5000 - val_loss: 1.7650 - val_accuracy: 0.5000\n",
            "Epoch 4/100\n",
            "2/2 [==============================] - 0s 160ms/step - loss: 7.7125 - accuracy: 0.5000 - val_loss: 1.6308 - val_accuracy: 0.5000\n",
            "Epoch 5/100\n",
            "2/2 [==============================] - 0s 362ms/step - loss: 7.7125 - accuracy: 0.5000 - val_loss: 1.5279 - val_accuracy: 0.5000\n",
            "Epoch 6/100\n",
            "2/2 [==============================] - 0s 352ms/step - loss: 7.7125 - accuracy: 0.5000 - val_loss: 1.4451 - val_accuracy: 0.5000\n",
            "Epoch 7/100\n",
            "2/2 [==============================] - 0s 165ms/step - loss: 7.7125 - accuracy: 0.5000 - val_loss: 1.3761 - val_accuracy: 0.5000\n",
            "Epoch 8/100\n",
            "2/2 [==============================] - 0s 163ms/step - loss: 7.7125 - accuracy: 0.5000 - val_loss: 1.3173 - val_accuracy: 0.5000\n",
            "Epoch 9/100\n",
            "2/2 [==============================] - 0s 347ms/step - loss: 7.7125 - accuracy: 0.5000 - val_loss: 1.2663 - val_accuracy: 0.5000\n",
            "Epoch 10/100\n",
            "2/2 [==============================] - 0s 161ms/step - loss: 7.7125 - accuracy: 0.5000 - val_loss: 1.2214 - val_accuracy: 0.5000\n",
            "Epoch 11/100\n",
            "2/2 [==============================] - 0s 355ms/step - loss: 7.7125 - accuracy: 0.5000 - val_loss: 1.1814 - val_accuracy: 0.5000\n",
            "Epoch 12/100\n",
            "2/2 [==============================] - 0s 364ms/step - loss: 7.7125 - accuracy: 0.5000 - val_loss: 1.1456 - val_accuracy: 0.5000\n",
            "Epoch 13/100\n",
            "2/2 [==============================] - 0s 162ms/step - loss: 7.7125 - accuracy: 0.5000 - val_loss: 1.1132 - val_accuracy: 0.5000\n",
            "Epoch 14/100\n",
            "2/2 [==============================] - 0s 359ms/step - loss: 7.7125 - accuracy: 0.5000 - val_loss: 1.0838 - val_accuracy: 0.5000\n",
            "Epoch 15/100\n",
            "2/2 [==============================] - 0s 164ms/step - loss: 7.7125 - accuracy: 0.5000 - val_loss: 1.0569 - val_accuracy: 0.5000\n",
            "Epoch 16/100\n",
            "2/2 [==============================] - 0s 162ms/step - loss: 7.7125 - accuracy: 0.5000 - val_loss: 1.0322 - val_accuracy: 0.5000\n",
            "Epoch 17/100\n",
            "2/2 [==============================] - 0s 164ms/step - loss: 7.7125 - accuracy: 0.5000 - val_loss: 1.0095 - val_accuracy: 0.5000\n",
            "Epoch 18/100\n",
            "2/2 [==============================] - 0s 354ms/step - loss: 7.7125 - accuracy: 0.5000 - val_loss: 0.9884 - val_accuracy: 0.5000\n",
            "Epoch 19/100\n",
            "2/2 [==============================] - 0s 170ms/step - loss: 7.7125 - accuracy: 0.5000 - val_loss: 0.9689 - val_accuracy: 0.5000\n",
            "Epoch 20/100\n",
            "2/2 [==============================] - 0s 165ms/step - loss: 7.7125 - accuracy: 0.5000 - val_loss: 0.9508 - val_accuracy: 0.5000\n",
            "Epoch 21/100\n",
            "2/2 [==============================] - 0s 364ms/step - loss: 7.7125 - accuracy: 0.5000 - val_loss: 0.9339 - val_accuracy: 0.5000\n",
            "Epoch 22/100\n",
            "2/2 [==============================] - 0s 163ms/step - loss: 7.7125 - accuracy: 0.5000 - val_loss: 0.9182 - val_accuracy: 0.5000\n",
            "Epoch 23/100\n",
            "2/2 [==============================] - 0s 163ms/step - loss: 7.7125 - accuracy: 0.5000 - val_loss: 0.9035 - val_accuracy: 0.5000\n",
            "Epoch 24/100\n",
            "2/2 [==============================] - 0s 350ms/step - loss: 7.7125 - accuracy: 0.5000 - val_loss: 0.8897 - val_accuracy: 0.5000\n",
            "Epoch 25/100\n",
            "2/2 [==============================] - 0s 162ms/step - loss: 7.7125 - accuracy: 0.5000 - val_loss: 0.8767 - val_accuracy: 0.5000\n",
            "Epoch 26/100\n",
            "2/2 [==============================] - 0s 168ms/step - loss: 7.7125 - accuracy: 0.5000 - val_loss: 0.8646 - val_accuracy: 0.5000\n",
            "Epoch 27/100\n",
            "2/2 [==============================] - 0s 166ms/step - loss: 7.7125 - accuracy: 0.5000 - val_loss: 0.8532 - val_accuracy: 0.5000\n",
            "Epoch 28/100\n",
            "2/2 [==============================] - 0s 358ms/step - loss: 7.7125 - accuracy: 0.5000 - val_loss: 0.8425 - val_accuracy: 0.5000\n",
            "Epoch 29/100\n",
            "2/2 [==============================] - 0s 163ms/step - loss: 7.7125 - accuracy: 0.5000 - val_loss: 0.8324 - val_accuracy: 0.5000\n",
            "Epoch 30/100\n",
            "2/2 [==============================] - 0s 362ms/step - loss: 7.7125 - accuracy: 0.5000 - val_loss: 0.8229 - val_accuracy: 0.5000\n",
            "Epoch 31/100\n",
            "2/2 [==============================] - 0s 363ms/step - loss: 7.7125 - accuracy: 0.5000 - val_loss: 0.8139 - val_accuracy: 0.5000\n",
            "Epoch 32/100\n",
            "2/2 [==============================] - 0s 164ms/step - loss: 7.7125 - accuracy: 0.5000 - val_loss: 0.8055 - val_accuracy: 0.5000\n",
            "Epoch 33/100\n",
            "2/2 [==============================] - 0s 172ms/step - loss: 7.7125 - accuracy: 0.5000 - val_loss: 0.7975 - val_accuracy: 0.5000\n",
            "Epoch 34/100\n",
            "2/2 [==============================] - 0s 165ms/step - loss: 7.7125 - accuracy: 0.5000 - val_loss: 0.7900 - val_accuracy: 0.5000\n",
            "Epoch 35/100\n",
            "2/2 [==============================] - 0s 369ms/step - loss: 7.7125 - accuracy: 0.5000 - val_loss: 0.7830 - val_accuracy: 0.5000\n",
            "Epoch 36/100\n",
            "2/2 [==============================] - 0s 162ms/step - loss: 7.7125 - accuracy: 0.5000 - val_loss: 0.7763 - val_accuracy: 0.5000\n",
            "Epoch 37/100\n",
            "2/2 [==============================] - 0s 166ms/step - loss: 7.7125 - accuracy: 0.5000 - val_loss: 0.7700 - val_accuracy: 0.5000\n",
            "Epoch 38/100\n",
            "2/2 [==============================] - 0s 363ms/step - loss: 7.7125 - accuracy: 0.5000 - val_loss: 0.7641 - val_accuracy: 0.5000\n",
            "Epoch 39/100\n",
            "2/2 [==============================] - 0s 164ms/step - loss: 7.7125 - accuracy: 0.5000 - val_loss: 0.7585 - val_accuracy: 0.5000\n",
            "Epoch 40/100\n",
            "2/2 [==============================] - 0s 165ms/step - loss: 7.7125 - accuracy: 0.5000 - val_loss: 0.7532 - val_accuracy: 0.5000\n",
            "Epoch 41/100\n",
            "2/2 [==============================] - 0s 365ms/step - loss: 7.7125 - accuracy: 0.5000 - val_loss: 0.7483 - val_accuracy: 0.5000\n",
            "Epoch 42/100\n",
            "2/2 [==============================] - 0s 181ms/step - loss: 7.7125 - accuracy: 0.5000 - val_loss: 0.7436 - val_accuracy: 0.5000\n",
            "Epoch 43/100\n",
            "2/2 [==============================] - 0s 361ms/step - loss: 7.7125 - accuracy: 0.5000 - val_loss: 0.7392 - val_accuracy: 0.5000\n",
            "Epoch 44/100\n",
            "2/2 [==============================] - 0s 360ms/step - loss: 7.7125 - accuracy: 0.5000 - val_loss: 0.7351 - val_accuracy: 0.5000\n",
            "Epoch 45/100\n",
            "2/2 [==============================] - 0s 346ms/step - loss: 7.7125 - accuracy: 0.5000 - val_loss: 0.7312 - val_accuracy: 0.5000\n",
            "Epoch 46/100\n",
            "2/2 [==============================] - 0s 360ms/step - loss: 7.7125 - accuracy: 0.5000 - val_loss: 0.7276 - val_accuracy: 0.5000\n",
            "Epoch 47/100\n",
            "2/2 [==============================] - 0s 363ms/step - loss: 7.7125 - accuracy: 0.5000 - val_loss: 0.7242 - val_accuracy: 0.5000\n",
            "Epoch 48/100\n",
            "2/2 [==============================] - 0s 161ms/step - loss: 7.7125 - accuracy: 0.5000 - val_loss: 0.7210 - val_accuracy: 0.5000\n",
            "Epoch 49/100\n",
            "2/2 [==============================] - 0s 369ms/step - loss: 7.7125 - accuracy: 0.5000 - val_loss: 0.7181 - val_accuracy: 0.5000\n",
            "Epoch 50/100\n",
            "2/2 [==============================] - 0s 159ms/step - loss: 7.7125 - accuracy: 0.5000 - val_loss: 0.7153 - val_accuracy: 0.5000\n",
            "Epoch 51/100\n",
            "2/2 [==============================] - 0s 177ms/step - loss: 7.7125 - accuracy: 0.5000 - val_loss: 0.7128 - val_accuracy: 0.5000\n",
            "Epoch 52/100\n",
            "2/2 [==============================] - 0s 163ms/step - loss: 7.7125 - accuracy: 0.5000 - val_loss: 0.7104 - val_accuracy: 0.5000\n",
            "Epoch 53/100\n",
            "2/2 [==============================] - 0s 164ms/step - loss: 7.7125 - accuracy: 0.5000 - val_loss: 0.7082 - val_accuracy: 0.5000\n",
            "Epoch 54/100\n",
            "2/2 [==============================] - 0s 365ms/step - loss: 7.7125 - accuracy: 0.5000 - val_loss: 0.7062 - val_accuracy: 0.5000\n",
            "Epoch 55/100\n",
            "2/2 [==============================] - 0s 358ms/step - loss: 7.7125 - accuracy: 0.5000 - val_loss: 0.7044 - val_accuracy: 0.5000\n",
            "Epoch 56/100\n",
            "2/2 [==============================] - 0s 368ms/step - loss: 7.7125 - accuracy: 0.5000 - val_loss: 0.7027 - val_accuracy: 0.5000\n",
            "Epoch 57/100\n",
            "2/2 [==============================] - 0s 167ms/step - loss: 7.7125 - accuracy: 0.5000 - val_loss: 0.7012 - val_accuracy: 0.5000\n",
            "Epoch 58/100\n",
            "2/2 [==============================] - 0s 170ms/step - loss: 7.7125 - accuracy: 0.5000 - val_loss: 0.6998 - val_accuracy: 0.5000\n",
            "Epoch 59/100\n",
            "2/2 [==============================] - 0s 165ms/step - loss: 7.7125 - accuracy: 0.5000 - val_loss: 0.6985 - val_accuracy: 0.5000\n",
            "Epoch 60/100\n",
            "2/2 [==============================] - 0s 359ms/step - loss: 7.7125 - accuracy: 0.5000 - val_loss: 0.6974 - val_accuracy: 0.5000\n",
            "Epoch 61/100\n",
            "2/2 [==============================] - 0s 166ms/step - loss: 7.7125 - accuracy: 0.5000 - val_loss: 0.6965 - val_accuracy: 0.5000\n",
            "Epoch 62/100\n",
            "2/2 [==============================] - 0s 364ms/step - loss: 7.7125 - accuracy: 0.5000 - val_loss: 0.6957 - val_accuracy: 0.5000\n",
            "Epoch 63/100\n",
            "2/2 [==============================] - 0s 358ms/step - loss: 7.7125 - accuracy: 0.5000 - val_loss: 0.6949 - val_accuracy: 0.5000\n",
            "Epoch 64/100\n",
            "2/2 [==============================] - 0s 358ms/step - loss: 7.7125 - accuracy: 0.5000 - val_loss: 0.6944 - val_accuracy: 0.5000\n",
            "Epoch 65/100\n",
            "2/2 [==============================] - 0s 351ms/step - loss: 7.7125 - accuracy: 0.5000 - val_loss: 0.6939 - val_accuracy: 0.5000\n",
            "Epoch 66/100\n",
            "2/2 [==============================] - 0s 167ms/step - loss: 7.7125 - accuracy: 0.5000 - val_loss: 0.6935 - val_accuracy: 0.5000\n",
            "Epoch 67/100\n",
            "2/2 [==============================] - 0s 182ms/step - loss: 7.7125 - accuracy: 0.5000 - val_loss: 0.6933 - val_accuracy: 0.5000\n",
            "Epoch 68/100\n",
            "2/2 [==============================] - 0s 354ms/step - loss: 7.7125 - accuracy: 0.5000 - val_loss: 0.6932 - val_accuracy: 0.5000\n",
            "Epoch 69/100\n",
            "2/2 [==============================] - 0s 165ms/step - loss: 7.7125 - accuracy: 0.5000 - val_loss: 0.6931 - val_accuracy: 0.5000\n",
            "Epoch 70/100\n",
            "2/2 [==============================] - 0s 376ms/step - loss: 7.7125 - accuracy: 0.5000 - val_loss: 0.6932 - val_accuracy: 0.5000\n",
            "Epoch 71/100\n",
            "2/2 [==============================] - 0s 354ms/step - loss: 7.7125 - accuracy: 0.5000 - val_loss: 0.6934 - val_accuracy: 0.5000\n",
            "Epoch 72/100\n",
            "2/2 [==============================] - 0s 163ms/step - loss: 7.7125 - accuracy: 0.5000 - val_loss: 0.6937 - val_accuracy: 0.5000\n",
            "Epoch 73/100\n",
            "2/2 [==============================] - 0s 171ms/step - loss: 7.7125 - accuracy: 0.5000 - val_loss: 0.6940 - val_accuracy: 0.5000\n",
            "Epoch 74/100\n",
            "2/2 [==============================] - 0s 360ms/step - loss: 7.7125 - accuracy: 0.5000 - val_loss: 0.6945 - val_accuracy: 0.5000\n",
            "Epoch 75/100\n",
            "2/2 [==============================] - 0s 160ms/step - loss: 7.7125 - accuracy: 0.5000 - val_loss: 0.6950 - val_accuracy: 0.5000\n",
            "Epoch 76/100\n",
            "2/2 [==============================] - 0s 163ms/step - loss: 7.7125 - accuracy: 0.5000 - val_loss: 0.6956 - val_accuracy: 0.5000\n",
            "Epoch 77/100\n",
            "2/2 [==============================] - 0s 161ms/step - loss: 7.7125 - accuracy: 0.5000 - val_loss: 0.6963 - val_accuracy: 0.5000\n",
            "Epoch 78/100\n",
            "2/2 [==============================] - 0s 162ms/step - loss: 7.7125 - accuracy: 0.5000 - val_loss: 0.6971 - val_accuracy: 0.5000\n",
            "Epoch 79/100\n",
            "2/2 [==============================] - 0s 358ms/step - loss: 7.7125 - accuracy: 0.5000 - val_loss: 0.6980 - val_accuracy: 0.5000\n",
            "Epoch 80/100\n",
            "2/2 [==============================] - 0s 162ms/step - loss: 7.7125 - accuracy: 0.5000 - val_loss: 0.6989 - val_accuracy: 0.5000\n",
            "Epoch 81/100\n",
            "2/2 [==============================] - 0s 367ms/step - loss: 7.7125 - accuracy: 0.5000 - val_loss: 0.6999 - val_accuracy: 0.5000\n",
            "Epoch 82/100\n",
            "2/2 [==============================] - 0s 165ms/step - loss: 7.7125 - accuracy: 0.5000 - val_loss: 0.7010 - val_accuracy: 0.5000\n",
            "Epoch 83/100\n",
            "2/2 [==============================] - 0s 167ms/step - loss: 7.7125 - accuracy: 0.5000 - val_loss: 0.7022 - val_accuracy: 0.5000\n",
            "Epoch 84/100\n",
            "2/2 [==============================] - 0s 163ms/step - loss: 7.7125 - accuracy: 0.5000 - val_loss: 0.7034 - val_accuracy: 0.5000\n",
            "Epoch 85/100\n",
            "2/2 [==============================] - 0s 163ms/step - loss: 7.7125 - accuracy: 0.5000 - val_loss: 0.7047 - val_accuracy: 0.5000\n",
            "Epoch 86/100\n",
            "2/2 [==============================] - 0s 352ms/step - loss: 7.7125 - accuracy: 0.5000 - val_loss: 0.7061 - val_accuracy: 0.5000\n",
            "Epoch 87/100\n",
            "2/2 [==============================] - 0s 166ms/step - loss: 7.7125 - accuracy: 0.5000 - val_loss: 0.7075 - val_accuracy: 0.5000\n",
            "Epoch 88/100\n",
            "2/2 [==============================] - 0s 371ms/step - loss: 7.7125 - accuracy: 0.5000 - val_loss: 0.7090 - val_accuracy: 0.5000\n",
            "Epoch 89/100\n",
            "2/2 [==============================] - 0s 354ms/step - loss: 7.7125 - accuracy: 0.5000 - val_loss: 0.7105 - val_accuracy: 0.5000\n",
            "Epoch 90/100\n",
            "2/2 [==============================] - 0s 181ms/step - loss: 7.7125 - accuracy: 0.5000 - val_loss: 0.7121 - val_accuracy: 0.5000\n",
            "Epoch 91/100\n",
            "2/2 [==============================] - 0s 163ms/step - loss: 7.7125 - accuracy: 0.5000 - val_loss: 0.7138 - val_accuracy: 0.5000\n",
            "Epoch 92/100\n",
            "2/2 [==============================] - 0s 362ms/step - loss: 7.7125 - accuracy: 0.5000 - val_loss: 0.7155 - val_accuracy: 0.5000\n",
            "Epoch 93/100\n",
            "2/2 [==============================] - 0s 166ms/step - loss: 7.7125 - accuracy: 0.5000 - val_loss: 0.7173 - val_accuracy: 0.5000\n",
            "Epoch 94/100\n",
            "2/2 [==============================] - 0s 357ms/step - loss: 7.7125 - accuracy: 0.5000 - val_loss: 0.7191 - val_accuracy: 0.5000\n",
            "Epoch 95/100\n",
            "2/2 [==============================] - 0s 169ms/step - loss: 7.7125 - accuracy: 0.5000 - val_loss: 0.7210 - val_accuracy: 0.5000\n",
            "Epoch 96/100\n",
            "2/2 [==============================] - 0s 365ms/step - loss: 7.7125 - accuracy: 0.5000 - val_loss: 0.7229 - val_accuracy: 0.5000\n",
            "Epoch 97/100\n",
            "2/2 [==============================] - 0s 164ms/step - loss: 7.7125 - accuracy: 0.5000 - val_loss: 0.7249 - val_accuracy: 0.5000\n",
            "Epoch 98/100\n",
            "2/2 [==============================] - 0s 371ms/step - loss: 7.7125 - accuracy: 0.5000 - val_loss: 0.7270 - val_accuracy: 0.5000\n",
            "Epoch 99/100\n",
            "2/2 [==============================] - 0s 164ms/step - loss: 7.7125 - accuracy: 0.5000 - val_loss: 0.7291 - val_accuracy: 0.5000\n",
            "Epoch 100/100\n",
            "2/2 [==============================] - 0s 362ms/step - loss: 7.7125 - accuracy: 0.5000 - val_loss: 0.7312 - val_accuracy: 0.5000\n"
          ]
        },
        {
          "data": {
            "text/plain": [
              "<keras.callbacks.History at 0x7fdbc78b7b10>"
            ]
          },
          "execution_count": 17,
          "metadata": {},
          "output_type": "execute_result"
        }
      ],
      "source": [
        "model.fit(train, validation_data=test , epochs=100)\n"
      ]
    },
    {
      "cell_type": "code",
      "execution_count": null,
      "metadata": {
        "colab": {
          "base_uri": "https://localhost:8080/"
        },
        "id": "4HFLs67I5HSa",
        "outputId": "13cb2ec8-dfec-4f6c-e111-8629a3525f96"
      },
      "outputs": [
        {
          "name": "stdout",
          "output_type": "stream",
          "text": [
            "1/1 [==============================] - 0s 135ms/step - loss: 0.7312 - accuracy: 0.5000\n"
          ]
        }
      ],
      "source": [
        "test_loss, test_accuracy = model.evaluate(test)"
      ]
    },
    {
      "cell_type": "code",
      "execution_count": null,
      "metadata": {
        "colab": {
          "base_uri": "https://localhost:8080/"
        },
        "id": "0QcY1n1t9Dmo",
        "outputId": "1c3d31af-4586-4736-cc5b-b1ef7ad0a0a2"
      },
      "outputs": [
        {
          "data": {
            "text/plain": [
              "0.7311838865280151"
            ]
          },
          "execution_count": 19,
          "metadata": {},
          "output_type": "execute_result"
        }
      ],
      "source": [
        "test_loss"
      ]
    },
    {
      "cell_type": "code",
      "execution_count": null,
      "metadata": {
        "colab": {
          "base_uri": "https://localhost:8080/"
        },
        "id": "coch_LXc9Gnk",
        "outputId": "711b20cb-0820-462b-b225-aae15bf76421"
      },
      "outputs": [
        {
          "data": {
            "text/plain": [
              "0.5"
            ]
          },
          "execution_count": 20,
          "metadata": {},
          "output_type": "execute_result"
        }
      ],
      "source": [
        "test_accuracy"
      ]
    },
    {
      "cell_type": "code",
      "execution_count": null,
      "metadata": {
        "colab": {
          "base_uri": "https://localhost:8080/"
        },
        "id": "DRTcq4_M9kVT",
        "outputId": "8aa972fd-e9aa-4ca3-e31c-13b621d0a8ab"
      },
      "outputs": [
        {
          "name": "stdout",
          "output_type": "stream",
          "text": [
            "Epoch 1/200\n",
            "2/2 [==============================] - 1s 301ms/step - loss: 7.7125 - accuracy: 0.5000 - val_loss: 0.7334 - val_accuracy: 0.5000\n",
            "Epoch 2/200\n",
            "2/2 [==============================] - 0s 178ms/step - loss: 7.7125 - accuracy: 0.5000 - val_loss: 0.7356 - val_accuracy: 0.5000\n",
            "Epoch 3/200\n",
            "2/2 [==============================] - 0s 173ms/step - loss: 7.7125 - accuracy: 0.5000 - val_loss: 0.7379 - val_accuracy: 0.5000\n",
            "Epoch 4/200\n",
            "2/2 [==============================] - 0s 354ms/step - loss: 7.7125 - accuracy: 0.5000 - val_loss: 0.7402 - val_accuracy: 0.5000\n",
            "Epoch 5/200\n",
            "2/2 [==============================] - 0s 352ms/step - loss: 7.7125 - accuracy: 0.5000 - val_loss: 0.7425 - val_accuracy: 0.5000\n",
            "Epoch 6/200\n",
            "2/2 [==============================] - 0s 162ms/step - loss: 7.7125 - accuracy: 0.5000 - val_loss: 0.7449 - val_accuracy: 0.5000\n",
            "Epoch 7/200\n",
            "2/2 [==============================] - 0s 164ms/step - loss: 7.7125 - accuracy: 0.5000 - val_loss: 0.7474 - val_accuracy: 0.5000\n",
            "Epoch 8/200\n",
            "2/2 [==============================] - 0s 162ms/step - loss: 7.7125 - accuracy: 0.5000 - val_loss: 0.7498 - val_accuracy: 0.5000\n",
            "Epoch 9/200\n",
            "2/2 [==============================] - 0s 355ms/step - loss: 7.7125 - accuracy: 0.5000 - val_loss: 0.7524 - val_accuracy: 0.5000\n",
            "Epoch 10/200\n",
            "2/2 [==============================] - 0s 163ms/step - loss: 7.7125 - accuracy: 0.5000 - val_loss: 0.7549 - val_accuracy: 0.5000\n",
            "Epoch 11/200\n",
            "2/2 [==============================] - 0s 365ms/step - loss: 7.7125 - accuracy: 0.5000 - val_loss: 0.7575 - val_accuracy: 0.5000\n",
            "Epoch 12/200\n",
            "2/2 [==============================] - 0s 162ms/step - loss: 7.7125 - accuracy: 0.5000 - val_loss: 0.7602 - val_accuracy: 0.5000\n",
            "Epoch 13/200\n",
            "2/2 [==============================] - 0s 357ms/step - loss: 7.7125 - accuracy: 0.5000 - val_loss: 0.7628 - val_accuracy: 0.5000\n",
            "Epoch 14/200\n",
            "2/2 [==============================] - 0s 371ms/step - loss: 7.7125 - accuracy: 0.5000 - val_loss: 0.7655 - val_accuracy: 0.5000\n",
            "Epoch 15/200\n",
            "2/2 [==============================] - 0s 166ms/step - loss: 7.7125 - accuracy: 0.5000 - val_loss: 0.7683 - val_accuracy: 0.5000\n",
            "Epoch 16/200\n",
            "2/2 [==============================] - 0s 352ms/step - loss: 7.7125 - accuracy: 0.5000 - val_loss: 0.7711 - val_accuracy: 0.5000\n",
            "Epoch 17/200\n",
            "2/2 [==============================] - 0s 166ms/step - loss: 7.7125 - accuracy: 0.5000 - val_loss: 0.7739 - val_accuracy: 0.5000\n",
            "Epoch 18/200\n",
            "2/2 [==============================] - 0s 354ms/step - loss: 7.7125 - accuracy: 0.5000 - val_loss: 0.7767 - val_accuracy: 0.5000\n",
            "Epoch 19/200\n",
            "2/2 [==============================] - 0s 168ms/step - loss: 7.7125 - accuracy: 0.5000 - val_loss: 0.7796 - val_accuracy: 0.5000\n",
            "Epoch 20/200\n",
            "2/2 [==============================] - 0s 356ms/step - loss: 7.7125 - accuracy: 0.5000 - val_loss: 0.7825 - val_accuracy: 0.5000\n",
            "Epoch 21/200\n",
            "2/2 [==============================] - 0s 363ms/step - loss: 7.7125 - accuracy: 0.5000 - val_loss: 0.7855 - val_accuracy: 0.5000\n",
            "Epoch 22/200\n",
            "2/2 [==============================] - 0s 163ms/step - loss: 7.7125 - accuracy: 0.5000 - val_loss: 0.7884 - val_accuracy: 0.5000\n",
            "Epoch 23/200\n",
            "2/2 [==============================] - 0s 366ms/step - loss: 7.7125 - accuracy: 0.5000 - val_loss: 0.7914 - val_accuracy: 0.5000\n",
            "Epoch 24/200\n",
            "2/2 [==============================] - 0s 165ms/step - loss: 7.7125 - accuracy: 0.5000 - val_loss: 0.7945 - val_accuracy: 0.5000\n",
            "Epoch 25/200\n",
            "2/2 [==============================] - 0s 381ms/step - loss: 7.7125 - accuracy: 0.5000 - val_loss: 0.7975 - val_accuracy: 0.5000\n",
            "Epoch 26/200\n",
            "2/2 [==============================] - 0s 355ms/step - loss: 7.7125 - accuracy: 0.5000 - val_loss: 0.8006 - val_accuracy: 0.5000\n",
            "Epoch 27/200\n",
            "2/2 [==============================] - 0s 163ms/step - loss: 7.7125 - accuracy: 0.5000 - val_loss: 0.8037 - val_accuracy: 0.5000\n",
            "Epoch 28/200\n",
            "2/2 [==============================] - 0s 350ms/step - loss: 7.7125 - accuracy: 0.5000 - val_loss: 0.8069 - val_accuracy: 0.5000\n",
            "Epoch 29/200\n",
            "2/2 [==============================] - 0s 355ms/step - loss: 7.7125 - accuracy: 0.5000 - val_loss: 0.8101 - val_accuracy: 0.5000\n",
            "Epoch 30/200\n",
            "2/2 [==============================] - 0s 369ms/step - loss: 7.7125 - accuracy: 0.5000 - val_loss: 0.8133 - val_accuracy: 0.5000\n",
            "Epoch 31/200\n",
            "2/2 [==============================] - 0s 165ms/step - loss: 7.7125 - accuracy: 0.5000 - val_loss: 0.8165 - val_accuracy: 0.5000\n",
            "Epoch 32/200\n",
            "2/2 [==============================] - 0s 172ms/step - loss: 7.7125 - accuracy: 0.5000 - val_loss: 0.8198 - val_accuracy: 0.5000\n",
            "Epoch 33/200\n",
            "2/2 [==============================] - 0s 356ms/step - loss: 7.7125 - accuracy: 0.5000 - val_loss: 0.8231 - val_accuracy: 0.5000\n",
            "Epoch 34/200\n",
            "2/2 [==============================] - 0s 358ms/step - loss: 7.7125 - accuracy: 0.5000 - val_loss: 0.8264 - val_accuracy: 0.5000\n",
            "Epoch 35/200\n",
            "2/2 [==============================] - 0s 164ms/step - loss: 7.7125 - accuracy: 0.5000 - val_loss: 0.8297 - val_accuracy: 0.5000\n",
            "Epoch 36/200\n",
            "2/2 [==============================] - 0s 168ms/step - loss: 7.7125 - accuracy: 0.5000 - val_loss: 0.8331 - val_accuracy: 0.5000\n",
            "Epoch 37/200\n",
            "2/2 [==============================] - 0s 381ms/step - loss: 7.7125 - accuracy: 0.5000 - val_loss: 0.8365 - val_accuracy: 0.5000\n",
            "Epoch 38/200\n",
            "2/2 [==============================] - 0s 358ms/step - loss: 7.7125 - accuracy: 0.5000 - val_loss: 0.8399 - val_accuracy: 0.5000\n",
            "Epoch 39/200\n",
            "2/2 [==============================] - 0s 359ms/step - loss: 7.7125 - accuracy: 0.5000 - val_loss: 0.8433 - val_accuracy: 0.5000\n",
            "Epoch 40/200\n",
            "2/2 [==============================] - 0s 167ms/step - loss: 7.7125 - accuracy: 0.5000 - val_loss: 0.8468 - val_accuracy: 0.5000\n",
            "Epoch 41/200\n",
            "2/2 [==============================] - 0s 371ms/step - loss: 7.7125 - accuracy: 0.5000 - val_loss: 0.8502 - val_accuracy: 0.5000\n",
            "Epoch 42/200\n",
            "2/2 [==============================] - 0s 358ms/step - loss: 7.7125 - accuracy: 0.5000 - val_loss: 0.8537 - val_accuracy: 0.5000\n",
            "Epoch 43/200\n",
            "2/2 [==============================] - 0s 162ms/step - loss: 7.7125 - accuracy: 0.5000 - val_loss: 0.8573 - val_accuracy: 0.5000\n",
            "Epoch 44/200\n",
            "2/2 [==============================] - 0s 357ms/step - loss: 7.7125 - accuracy: 0.5000 - val_loss: 0.8608 - val_accuracy: 0.5000\n",
            "Epoch 45/200\n",
            "2/2 [==============================] - 0s 356ms/step - loss: 7.7125 - accuracy: 0.5000 - val_loss: 0.8644 - val_accuracy: 0.5000\n",
            "Epoch 46/200\n",
            "2/2 [==============================] - 0s 371ms/step - loss: 7.7125 - accuracy: 0.5000 - val_loss: 0.8680 - val_accuracy: 0.5000\n",
            "Epoch 47/200\n",
            "2/2 [==============================] - 0s 362ms/step - loss: 7.7125 - accuracy: 0.5000 - val_loss: 0.8716 - val_accuracy: 0.5000\n",
            "Epoch 48/200\n",
            "2/2 [==============================] - 0s 164ms/step - loss: 7.7125 - accuracy: 0.5000 - val_loss: 0.8752 - val_accuracy: 0.5000\n",
            "Epoch 49/200\n",
            "2/2 [==============================] - 0s 169ms/step - loss: 7.7125 - accuracy: 0.5000 - val_loss: 0.8789 - val_accuracy: 0.5000\n",
            "Epoch 50/200\n",
            "2/2 [==============================] - 0s 163ms/step - loss: 7.7125 - accuracy: 0.5000 - val_loss: 0.8826 - val_accuracy: 0.5000\n",
            "Epoch 51/200\n",
            "2/2 [==============================] - 0s 350ms/step - loss: 7.7125 - accuracy: 0.5000 - val_loss: 0.8863 - val_accuracy: 0.5000\n",
            "Epoch 52/200\n",
            "2/2 [==============================] - 0s 351ms/step - loss: 7.7125 - accuracy: 0.5000 - val_loss: 0.8900 - val_accuracy: 0.5000\n",
            "Epoch 53/200\n",
            "2/2 [==============================] - 0s 170ms/step - loss: 7.7125 - accuracy: 0.5000 - val_loss: 0.8937 - val_accuracy: 0.5000\n",
            "Epoch 54/200\n",
            "2/2 [==============================] - 0s 362ms/step - loss: 7.7125 - accuracy: 0.5000 - val_loss: 0.8975 - val_accuracy: 0.5000\n",
            "Epoch 55/200\n",
            "2/2 [==============================] - 0s 356ms/step - loss: 7.7125 - accuracy: 0.5000 - val_loss: 0.9012 - val_accuracy: 0.5000\n",
            "Epoch 56/200\n",
            "2/2 [==============================] - 0s 168ms/step - loss: 7.7125 - accuracy: 0.5000 - val_loss: 0.9050 - val_accuracy: 0.5000\n",
            "Epoch 57/200\n",
            "2/2 [==============================] - 0s 171ms/step - loss: 7.7125 - accuracy: 0.5000 - val_loss: 0.9088 - val_accuracy: 0.5000\n",
            "Epoch 58/200\n",
            "2/2 [==============================] - 0s 168ms/step - loss: 7.7125 - accuracy: 0.5000 - val_loss: 0.9127 - val_accuracy: 0.5000\n",
            "Epoch 59/200\n",
            "2/2 [==============================] - 1s 469ms/step - loss: 7.7125 - accuracy: 0.5000 - val_loss: 0.9165 - val_accuracy: 0.5000\n",
            "Epoch 60/200\n",
            "2/2 [==============================] - 1s 216ms/step - loss: 7.7125 - accuracy: 0.5000 - val_loss: 0.9204 - val_accuracy: 0.5000\n",
            "Epoch 61/200\n",
            "2/2 [==============================] - 1s 217ms/step - loss: 7.7125 - accuracy: 0.5000 - val_loss: 0.9243 - val_accuracy: 0.5000\n",
            "Epoch 62/200\n",
            "2/2 [==============================] - 1s 226ms/step - loss: 7.7125 - accuracy: 0.5000 - val_loss: 0.9282 - val_accuracy: 0.5000\n",
            "Epoch 63/200\n",
            "2/2 [==============================] - 1s 212ms/step - loss: 7.7125 - accuracy: 0.5000 - val_loss: 0.9321 - val_accuracy: 0.5000\n",
            "Epoch 64/200\n",
            "2/2 [==============================] - 0s 166ms/step - loss: 7.7125 - accuracy: 0.5000 - val_loss: 0.9361 - val_accuracy: 0.5000\n",
            "Epoch 65/200\n",
            "2/2 [==============================] - 0s 163ms/step - loss: 7.7125 - accuracy: 0.5000 - val_loss: 0.9400 - val_accuracy: 0.5000\n",
            "Epoch 66/200\n",
            "2/2 [==============================] - 0s 356ms/step - loss: 7.7125 - accuracy: 0.5000 - val_loss: 0.9440 - val_accuracy: 0.5000\n",
            "Epoch 67/200\n",
            "2/2 [==============================] - 1s 322ms/step - loss: 7.7125 - accuracy: 0.5000 - val_loss: 0.9480 - val_accuracy: 0.5000\n",
            "Epoch 68/200\n",
            "2/2 [==============================] - 0s 362ms/step - loss: 7.7125 - accuracy: 0.5000 - val_loss: 0.9520 - val_accuracy: 0.5000\n",
            "Epoch 69/200\n",
            "2/2 [==============================] - 1s 508ms/step - loss: 7.7125 - accuracy: 0.5000 - val_loss: 0.9560 - val_accuracy: 0.5000\n",
            "Epoch 70/200\n",
            "2/2 [==============================] - 0s 176ms/step - loss: 7.7125 - accuracy: 0.5000 - val_loss: 0.9601 - val_accuracy: 0.5000\n",
            "Epoch 71/200\n",
            "2/2 [==============================] - 0s 164ms/step - loss: 7.7125 - accuracy: 0.5000 - val_loss: 0.9641 - val_accuracy: 0.5000\n",
            "Epoch 72/200\n",
            "2/2 [==============================] - 0s 357ms/step - loss: 7.7125 - accuracy: 0.5000 - val_loss: 0.9682 - val_accuracy: 0.5000\n",
            "Epoch 73/200\n",
            "2/2 [==============================] - 0s 171ms/step - loss: 7.7125 - accuracy: 0.5000 - val_loss: 0.9723 - val_accuracy: 0.5000\n",
            "Epoch 74/200\n",
            "2/2 [==============================] - 0s 357ms/step - loss: 7.7125 - accuracy: 0.5000 - val_loss: 0.9764 - val_accuracy: 0.5000\n",
            "Epoch 75/200\n",
            "2/2 [==============================] - 0s 164ms/step - loss: 7.7125 - accuracy: 0.5000 - val_loss: 0.9805 - val_accuracy: 0.5000\n",
            "Epoch 76/200\n",
            "2/2 [==============================] - 0s 351ms/step - loss: 7.7125 - accuracy: 0.5000 - val_loss: 0.9846 - val_accuracy: 0.5000\n",
            "Epoch 77/200\n",
            "2/2 [==============================] - 0s 176ms/step - loss: 7.7125 - accuracy: 0.5000 - val_loss: 0.9888 - val_accuracy: 0.5000\n",
            "Epoch 78/200\n",
            "2/2 [==============================] - 0s 355ms/step - loss: 7.7125 - accuracy: 0.5000 - val_loss: 0.9930 - val_accuracy: 0.5000\n",
            "Epoch 79/200\n",
            "2/2 [==============================] - 0s 364ms/step - loss: 7.7125 - accuracy: 0.5000 - val_loss: 0.9972 - val_accuracy: 0.5000\n",
            "Epoch 80/200\n",
            "2/2 [==============================] - 0s 355ms/step - loss: 7.7125 - accuracy: 0.5000 - val_loss: 1.0014 - val_accuracy: 0.5000\n",
            "Epoch 81/200\n",
            "2/2 [==============================] - 0s 166ms/step - loss: 7.7125 - accuracy: 0.5000 - val_loss: 1.0056 - val_accuracy: 0.5000\n",
            "Epoch 82/200\n",
            "2/2 [==============================] - 0s 164ms/step - loss: 7.7125 - accuracy: 0.5000 - val_loss: 1.0098 - val_accuracy: 0.5000\n",
            "Epoch 83/200\n",
            "2/2 [==============================] - 0s 347ms/step - loss: 7.7125 - accuracy: 0.5000 - val_loss: 1.0140 - val_accuracy: 0.5000\n",
            "Epoch 84/200\n",
            "2/2 [==============================] - 0s 370ms/step - loss: 7.7125 - accuracy: 0.5000 - val_loss: 1.0183 - val_accuracy: 0.5000\n",
            "Epoch 85/200\n",
            "2/2 [==============================] - 0s 356ms/step - loss: 7.7125 - accuracy: 0.5000 - val_loss: 1.0226 - val_accuracy: 0.5000\n",
            "Epoch 86/200\n",
            "2/2 [==============================] - 0s 358ms/step - loss: 7.7125 - accuracy: 0.5000 - val_loss: 1.0269 - val_accuracy: 0.5000\n",
            "Epoch 87/200\n",
            "2/2 [==============================] - 0s 359ms/step - loss: 7.7125 - accuracy: 0.5000 - val_loss: 1.0312 - val_accuracy: 0.5000\n",
            "Epoch 88/200\n",
            "2/2 [==============================] - 0s 161ms/step - loss: 7.7125 - accuracy: 0.5000 - val_loss: 1.0355 - val_accuracy: 0.5000\n",
            "Epoch 89/200\n",
            "2/2 [==============================] - 0s 371ms/step - loss: 7.7125 - accuracy: 0.5000 - val_loss: 1.0398 - val_accuracy: 0.5000\n",
            "Epoch 90/200\n",
            "2/2 [==============================] - 0s 167ms/step - loss: 7.7125 - accuracy: 0.5000 - val_loss: 1.0442 - val_accuracy: 0.5000\n",
            "Epoch 91/200\n",
            "2/2 [==============================] - 0s 358ms/step - loss: 7.7125 - accuracy: 0.5000 - val_loss: 1.0485 - val_accuracy: 0.5000\n",
            "Epoch 92/200\n",
            "2/2 [==============================] - 0s 357ms/step - loss: 7.7125 - accuracy: 0.5000 - val_loss: 1.0529 - val_accuracy: 0.5000\n",
            "Epoch 93/200\n",
            "2/2 [==============================] - 0s 372ms/step - loss: 7.7125 - accuracy: 0.5000 - val_loss: 1.0573 - val_accuracy: 0.5000\n",
            "Epoch 94/200\n",
            "2/2 [==============================] - 0s 356ms/step - loss: 7.7125 - accuracy: 0.5000 - val_loss: 1.0617 - val_accuracy: 0.5000\n",
            "Epoch 95/200\n",
            "2/2 [==============================] - 0s 168ms/step - loss: 7.7125 - accuracy: 0.5000 - val_loss: 1.0661 - val_accuracy: 0.5000\n",
            "Epoch 96/200\n",
            "2/2 [==============================] - 0s 166ms/step - loss: 7.7125 - accuracy: 0.5000 - val_loss: 1.0706 - val_accuracy: 0.5000\n",
            "Epoch 97/200\n",
            "2/2 [==============================] - 0s 362ms/step - loss: 7.7125 - accuracy: 0.5000 - val_loss: 1.0750 - val_accuracy: 0.5000\n",
            "Epoch 98/200\n",
            "2/2 [==============================] - 0s 169ms/step - loss: 7.7125 - accuracy: 0.5000 - val_loss: 1.0795 - val_accuracy: 0.5000\n",
            "Epoch 99/200\n",
            "2/2 [==============================] - 0s 353ms/step - loss: 7.7125 - accuracy: 0.5000 - val_loss: 1.0840 - val_accuracy: 0.5000\n",
            "Epoch 100/200\n",
            "2/2 [==============================] - 0s 179ms/step - loss: 7.7125 - accuracy: 0.5000 - val_loss: 1.0884 - val_accuracy: 0.5000\n",
            "Epoch 101/200\n",
            "2/2 [==============================] - 0s 355ms/step - loss: 7.7125 - accuracy: 0.5000 - val_loss: 1.0930 - val_accuracy: 0.5000\n",
            "Epoch 102/200\n",
            "2/2 [==============================] - 0s 166ms/step - loss: 7.7125 - accuracy: 0.5000 - val_loss: 1.0975 - val_accuracy: 0.5000\n",
            "Epoch 103/200\n",
            "2/2 [==============================] - 0s 364ms/step - loss: 7.7125 - accuracy: 0.5000 - val_loss: 1.1020 - val_accuracy: 0.5000\n",
            "Epoch 104/200\n",
            "2/2 [==============================] - 0s 168ms/step - loss: 7.7125 - accuracy: 0.5000 - val_loss: 1.1065 - val_accuracy: 0.5000\n",
            "Epoch 105/200\n",
            "2/2 [==============================] - 0s 359ms/step - loss: 7.7125 - accuracy: 0.5000 - val_loss: 1.1111 - val_accuracy: 0.5000\n",
            "Epoch 106/200\n",
            "2/2 [==============================] - 0s 165ms/step - loss: 7.7125 - accuracy: 0.5000 - val_loss: 1.1157 - val_accuracy: 0.5000\n",
            "Epoch 107/200\n",
            "2/2 [==============================] - 0s 174ms/step - loss: 7.7125 - accuracy: 0.5000 - val_loss: 1.1203 - val_accuracy: 0.5000\n",
            "Epoch 108/200\n",
            "2/2 [==============================] - 0s 170ms/step - loss: 7.7125 - accuracy: 0.5000 - val_loss: 1.1249 - val_accuracy: 0.5000\n",
            "Epoch 109/200\n",
            "2/2 [==============================] - 0s 164ms/step - loss: 7.7125 - accuracy: 0.5000 - val_loss: 1.1295 - val_accuracy: 0.5000\n",
            "Epoch 110/200\n",
            "2/2 [==============================] - 0s 371ms/step - loss: 7.7125 - accuracy: 0.5000 - val_loss: 1.1341 - val_accuracy: 0.5000\n",
            "Epoch 111/200\n",
            "2/2 [==============================] - 0s 349ms/step - loss: 7.7125 - accuracy: 0.5000 - val_loss: 1.1388 - val_accuracy: 0.5000\n",
            "Epoch 112/200\n",
            "2/2 [==============================] - 0s 393ms/step - loss: 7.7125 - accuracy: 0.5000 - val_loss: 1.1434 - val_accuracy: 0.5000\n",
            "Epoch 113/200\n",
            "2/2 [==============================] - 0s 171ms/step - loss: 7.7125 - accuracy: 0.5000 - val_loss: 1.1481 - val_accuracy: 0.5000\n",
            "Epoch 114/200\n",
            "2/2 [==============================] - 0s 175ms/step - loss: 7.7125 - accuracy: 0.5000 - val_loss: 1.1528 - val_accuracy: 0.5000\n",
            "Epoch 115/200\n",
            "2/2 [==============================] - 0s 166ms/step - loss: 7.7125 - accuracy: 0.5000 - val_loss: 1.1575 - val_accuracy: 0.5000\n",
            "Epoch 116/200\n",
            "2/2 [==============================] - 0s 360ms/step - loss: 7.7125 - accuracy: 0.5000 - val_loss: 1.1622 - val_accuracy: 0.5000\n",
            "Epoch 117/200\n",
            "2/2 [==============================] - 0s 163ms/step - loss: 7.7125 - accuracy: 0.5000 - val_loss: 1.1669 - val_accuracy: 0.5000\n",
            "Epoch 118/200\n",
            "2/2 [==============================] - 0s 371ms/step - loss: 7.7125 - accuracy: 0.5000 - val_loss: 1.1716 - val_accuracy: 0.5000\n",
            "Epoch 119/200\n",
            "2/2 [==============================] - 0s 172ms/step - loss: 7.7125 - accuracy: 0.5000 - val_loss: 1.1764 - val_accuracy: 0.5000\n",
            "Epoch 120/200\n",
            "2/2 [==============================] - 0s 356ms/step - loss: 7.7125 - accuracy: 0.5000 - val_loss: 1.1812 - val_accuracy: 0.5000\n",
            "Epoch 121/200\n",
            "2/2 [==============================] - 0s 166ms/step - loss: 7.7125 - accuracy: 0.5000 - val_loss: 1.1859 - val_accuracy: 0.5000\n",
            "Epoch 122/200\n",
            "2/2 [==============================] - 0s 163ms/step - loss: 7.7125 - accuracy: 0.5000 - val_loss: 1.1907 - val_accuracy: 0.5000\n",
            "Epoch 123/200\n",
            "2/2 [==============================] - 0s 165ms/step - loss: 7.7125 - accuracy: 0.5000 - val_loss: 1.1955 - val_accuracy: 0.5000\n",
            "Epoch 124/200\n",
            "2/2 [==============================] - 0s 177ms/step - loss: 7.7125 - accuracy: 0.5000 - val_loss: 1.2004 - val_accuracy: 0.5000\n",
            "Epoch 125/200\n",
            "2/2 [==============================] - 0s 362ms/step - loss: 7.7125 - accuracy: 0.5000 - val_loss: 1.2052 - val_accuracy: 0.5000\n",
            "Epoch 126/200\n",
            "2/2 [==============================] - 0s 165ms/step - loss: 7.7125 - accuracy: 0.5000 - val_loss: 1.2101 - val_accuracy: 0.5000\n",
            "Epoch 127/200\n",
            "2/2 [==============================] - 0s 371ms/step - loss: 7.7125 - accuracy: 0.5000 - val_loss: 1.2149 - val_accuracy: 0.5000\n",
            "Epoch 128/200\n",
            "2/2 [==============================] - 0s 165ms/step - loss: 7.7125 - accuracy: 0.5000 - val_loss: 1.2198 - val_accuracy: 0.5000\n",
            "Epoch 129/200\n",
            "2/2 [==============================] - 0s 366ms/step - loss: 7.7125 - accuracy: 0.5000 - val_loss: 1.2247 - val_accuracy: 0.5000\n",
            "Epoch 130/200\n",
            "2/2 [==============================] - 0s 372ms/step - loss: 7.7125 - accuracy: 0.5000 - val_loss: 1.2296 - val_accuracy: 0.5000\n",
            "Epoch 131/200\n",
            "2/2 [==============================] - 0s 165ms/step - loss: 7.7125 - accuracy: 0.5000 - val_loss: 1.2345 - val_accuracy: 0.5000\n",
            "Epoch 132/200\n",
            "2/2 [==============================] - 0s 174ms/step - loss: 7.7125 - accuracy: 0.5000 - val_loss: 1.2395 - val_accuracy: 0.5000\n",
            "Epoch 133/200\n",
            "2/2 [==============================] - 0s 179ms/step - loss: 7.7125 - accuracy: 0.5000 - val_loss: 1.2444 - val_accuracy: 0.5000\n",
            "Epoch 134/200\n",
            "2/2 [==============================] - 0s 163ms/step - loss: 7.7125 - accuracy: 0.5000 - val_loss: 1.2494 - val_accuracy: 0.5000\n",
            "Epoch 135/200\n",
            "2/2 [==============================] - 0s 351ms/step - loss: 7.7125 - accuracy: 0.5000 - val_loss: 1.2544 - val_accuracy: 0.5000\n",
            "Epoch 136/200\n",
            "2/2 [==============================] - 0s 363ms/step - loss: 7.7125 - accuracy: 0.5000 - val_loss: 1.2594 - val_accuracy: 0.5000\n",
            "Epoch 137/200\n",
            "2/2 [==============================] - 0s 363ms/step - loss: 7.7125 - accuracy: 0.5000 - val_loss: 1.2644 - val_accuracy: 0.5000\n",
            "Epoch 138/200\n",
            "2/2 [==============================] - 0s 367ms/step - loss: 7.7125 - accuracy: 0.5000 - val_loss: 1.2694 - val_accuracy: 0.5000\n",
            "Epoch 139/200\n",
            "2/2 [==============================] - 0s 168ms/step - loss: 7.7125 - accuracy: 0.5000 - val_loss: 1.2745 - val_accuracy: 0.5000\n",
            "Epoch 140/200\n",
            "2/2 [==============================] - 0s 358ms/step - loss: 7.7125 - accuracy: 0.5000 - val_loss: 1.2795 - val_accuracy: 0.5000\n",
            "Epoch 141/200\n",
            "2/2 [==============================] - 0s 169ms/step - loss: 7.7125 - accuracy: 0.5000 - val_loss: 1.2846 - val_accuracy: 0.5000\n",
            "Epoch 142/200\n",
            "2/2 [==============================] - 0s 350ms/step - loss: 7.7125 - accuracy: 0.5000 - val_loss: 1.2897 - val_accuracy: 0.5000\n",
            "Epoch 143/200\n",
            "2/2 [==============================] - 0s 166ms/step - loss: 7.7125 - accuracy: 0.5000 - val_loss: 1.2948 - val_accuracy: 0.5000\n",
            "Epoch 144/200\n",
            "2/2 [==============================] - 0s 166ms/step - loss: 7.7125 - accuracy: 0.5000 - val_loss: 1.2999 - val_accuracy: 0.5000\n",
            "Epoch 145/200\n",
            "2/2 [==============================] - 0s 370ms/step - loss: 7.7125 - accuracy: 0.5000 - val_loss: 1.3051 - val_accuracy: 0.5000\n",
            "Epoch 146/200\n",
            "2/2 [==============================] - 0s 355ms/step - loss: 7.7125 - accuracy: 0.5000 - val_loss: 1.3102 - val_accuracy: 0.5000\n",
            "Epoch 147/200\n",
            "2/2 [==============================] - 0s 176ms/step - loss: 7.7125 - accuracy: 0.5000 - val_loss: 1.3154 - val_accuracy: 0.5000\n",
            "Epoch 148/200\n",
            "2/2 [==============================] - 0s 173ms/step - loss: 7.7125 - accuracy: 0.5000 - val_loss: 1.3206 - val_accuracy: 0.5000\n",
            "Epoch 149/200\n",
            "2/2 [==============================] - 0s 353ms/step - loss: 7.7125 - accuracy: 0.5000 - val_loss: 1.3258 - val_accuracy: 0.5000\n",
            "Epoch 150/200\n",
            "2/2 [==============================] - 0s 167ms/step - loss: 7.7125 - accuracy: 0.5000 - val_loss: 1.3310 - val_accuracy: 0.5000\n",
            "Epoch 151/200\n",
            "2/2 [==============================] - 0s 170ms/step - loss: 7.7125 - accuracy: 0.5000 - val_loss: 1.3362 - val_accuracy: 0.5000\n",
            "Epoch 152/200\n",
            "2/2 [==============================] - 0s 168ms/step - loss: 7.7125 - accuracy: 0.5000 - val_loss: 1.3415 - val_accuracy: 0.5000\n",
            "Epoch 153/200\n",
            "2/2 [==============================] - 0s 167ms/step - loss: 7.7125 - accuracy: 0.5000 - val_loss: 1.3467 - val_accuracy: 0.5000\n",
            "Epoch 154/200\n",
            "2/2 [==============================] - 0s 169ms/step - loss: 7.7125 - accuracy: 0.5000 - val_loss: 1.3520 - val_accuracy: 0.5000\n",
            "Epoch 155/200\n",
            "2/2 [==============================] - 0s 170ms/step - loss: 7.7125 - accuracy: 0.5000 - val_loss: 1.3573 - val_accuracy: 0.5000\n",
            "Epoch 156/200\n",
            "2/2 [==============================] - 0s 166ms/step - loss: 7.7125 - accuracy: 0.5000 - val_loss: 1.3626 - val_accuracy: 0.5000\n",
            "Epoch 157/200\n",
            "2/2 [==============================] - 0s 167ms/step - loss: 7.7125 - accuracy: 0.5000 - val_loss: 1.3679 - val_accuracy: 0.5000\n",
            "Epoch 158/200\n",
            "2/2 [==============================] - 0s 364ms/step - loss: 7.7125 - accuracy: 0.5000 - val_loss: 1.3733 - val_accuracy: 0.5000\n",
            "Epoch 159/200\n",
            "2/2 [==============================] - 0s 170ms/step - loss: 7.7125 - accuracy: 0.5000 - val_loss: 1.3787 - val_accuracy: 0.5000\n",
            "Epoch 160/200\n",
            "2/2 [==============================] - 0s 361ms/step - loss: 7.7125 - accuracy: 0.5000 - val_loss: 1.3840 - val_accuracy: 0.5000\n",
            "Epoch 161/200\n",
            "2/2 [==============================] - 0s 171ms/step - loss: 7.7125 - accuracy: 0.5000 - val_loss: 1.3895 - val_accuracy: 0.5000\n",
            "Epoch 162/200\n",
            "2/2 [==============================] - 0s 371ms/step - loss: 7.7125 - accuracy: 0.5000 - val_loss: 1.3949 - val_accuracy: 0.5000\n",
            "Epoch 163/200\n",
            "2/2 [==============================] - 0s 353ms/step - loss: 7.7125 - accuracy: 0.5000 - val_loss: 1.4003 - val_accuracy: 0.5000\n",
            "Epoch 164/200\n",
            "2/2 [==============================] - 0s 366ms/step - loss: 7.7125 - accuracy: 0.5000 - val_loss: 1.4058 - val_accuracy: 0.5000\n",
            "Epoch 165/200\n",
            "2/2 [==============================] - 0s 356ms/step - loss: 7.7125 - accuracy: 0.5000 - val_loss: 1.4112 - val_accuracy: 0.5000\n",
            "Epoch 166/200\n",
            "2/2 [==============================] - 0s 366ms/step - loss: 7.7125 - accuracy: 0.5000 - val_loss: 1.4167 - val_accuracy: 0.5000\n",
            "Epoch 167/200\n",
            "2/2 [==============================] - 0s 165ms/step - loss: 7.7125 - accuracy: 0.5000 - val_loss: 1.4222 - val_accuracy: 0.5000\n",
            "Epoch 168/200\n",
            "2/2 [==============================] - 0s 164ms/step - loss: 7.7125 - accuracy: 0.5000 - val_loss: 1.4278 - val_accuracy: 0.5000\n",
            "Epoch 169/200\n",
            "2/2 [==============================] - 0s 172ms/step - loss: 7.7125 - accuracy: 0.5000 - val_loss: 1.4333 - val_accuracy: 0.5000\n",
            "Epoch 170/200\n",
            "2/2 [==============================] - 0s 358ms/step - loss: 7.7125 - accuracy: 0.5000 - val_loss: 1.4389 - val_accuracy: 0.5000\n",
            "Epoch 171/200\n",
            "2/2 [==============================] - 0s 167ms/step - loss: 7.7125 - accuracy: 0.5000 - val_loss: 1.4445 - val_accuracy: 0.5000\n",
            "Epoch 172/200\n",
            "2/2 [==============================] - 0s 162ms/step - loss: 7.7125 - accuracy: 0.5000 - val_loss: 1.4501 - val_accuracy: 0.5000\n",
            "Epoch 173/200\n",
            "2/2 [==============================] - 0s 367ms/step - loss: 7.7125 - accuracy: 0.5000 - val_loss: 1.4557 - val_accuracy: 0.5000\n",
            "Epoch 174/200\n",
            "2/2 [==============================] - 0s 164ms/step - loss: 7.7125 - accuracy: 0.5000 - val_loss: 1.4613 - val_accuracy: 0.5000\n",
            "Epoch 175/200\n",
            "2/2 [==============================] - 0s 163ms/step - loss: 7.7125 - accuracy: 0.5000 - val_loss: 1.4670 - val_accuracy: 0.5000\n",
            "Epoch 176/200\n",
            "2/2 [==============================] - 0s 183ms/step - loss: 7.7125 - accuracy: 0.5000 - val_loss: 1.4727 - val_accuracy: 0.5000\n",
            "Epoch 177/200\n",
            "2/2 [==============================] - 0s 359ms/step - loss: 7.7125 - accuracy: 0.5000 - val_loss: 1.4784 - val_accuracy: 0.5000\n",
            "Epoch 178/200\n",
            "2/2 [==============================] - 0s 175ms/step - loss: 7.7125 - accuracy: 0.5000 - val_loss: 1.4841 - val_accuracy: 0.5000\n",
            "Epoch 179/200\n",
            "2/2 [==============================] - 0s 169ms/step - loss: 7.7125 - accuracy: 0.5000 - val_loss: 1.4899 - val_accuracy: 0.5000\n",
            "Epoch 180/200\n",
            "2/2 [==============================] - 0s 381ms/step - loss: 7.7125 - accuracy: 0.5000 - val_loss: 1.4956 - val_accuracy: 0.5000\n",
            "Epoch 181/200\n",
            "2/2 [==============================] - 0s 391ms/step - loss: 7.7125 - accuracy: 0.5000 - val_loss: 1.5014 - val_accuracy: 0.5000\n",
            "Epoch 182/200\n",
            "2/2 [==============================] - 0s 171ms/step - loss: 7.7125 - accuracy: 0.5000 - val_loss: 1.5072 - val_accuracy: 0.5000\n",
            "Epoch 183/200\n",
            "2/2 [==============================] - 0s 379ms/step - loss: 7.7125 - accuracy: 0.5000 - val_loss: 1.5131 - val_accuracy: 0.5000\n",
            "Epoch 184/200\n",
            "2/2 [==============================] - 0s 168ms/step - loss: 7.7125 - accuracy: 0.5000 - val_loss: 1.5189 - val_accuracy: 0.5000\n",
            "Epoch 185/200\n",
            "2/2 [==============================] - 0s 380ms/step - loss: 7.7125 - accuracy: 0.5000 - val_loss: 1.5248 - val_accuracy: 0.5000\n",
            "Epoch 186/200\n",
            "2/2 [==============================] - 0s 360ms/step - loss: 7.7125 - accuracy: 0.5000 - val_loss: 1.5307 - val_accuracy: 0.5000\n",
            "Epoch 187/200\n",
            "2/2 [==============================] - 0s 366ms/step - loss: 7.7125 - accuracy: 0.5000 - val_loss: 1.5366 - val_accuracy: 0.5000\n",
            "Epoch 188/200\n",
            "2/2 [==============================] - 0s 167ms/step - loss: 7.7125 - accuracy: 0.5000 - val_loss: 1.5425 - val_accuracy: 0.5000\n",
            "Epoch 189/200\n",
            "2/2 [==============================] - 0s 165ms/step - loss: 7.7125 - accuracy: 0.5000 - val_loss: 1.5485 - val_accuracy: 0.5000\n",
            "Epoch 190/200\n",
            "2/2 [==============================] - 0s 370ms/step - loss: 7.7125 - accuracy: 0.5000 - val_loss: 1.5545 - val_accuracy: 0.5000\n",
            "Epoch 191/200\n",
            "2/2 [==============================] - 0s 364ms/step - loss: 7.7125 - accuracy: 0.5000 - val_loss: 1.5605 - val_accuracy: 0.5000\n",
            "Epoch 192/200\n",
            "2/2 [==============================] - 0s 375ms/step - loss: 7.7125 - accuracy: 0.5000 - val_loss: 1.5665 - val_accuracy: 0.5000\n",
            "Epoch 193/200\n",
            "2/2 [==============================] - 0s 167ms/step - loss: 7.7125 - accuracy: 0.5000 - val_loss: 1.5725 - val_accuracy: 0.5000\n",
            "Epoch 194/200\n",
            "2/2 [==============================] - 0s 172ms/step - loss: 7.7125 - accuracy: 0.5000 - val_loss: 1.5786 - val_accuracy: 0.5000\n",
            "Epoch 195/200\n",
            "2/2 [==============================] - 0s 369ms/step - loss: 7.7125 - accuracy: 0.5000 - val_loss: 1.5847 - val_accuracy: 0.5000\n",
            "Epoch 196/200\n",
            "2/2 [==============================] - 0s 165ms/step - loss: 7.7125 - accuracy: 0.5000 - val_loss: 1.5908 - val_accuracy: 0.5000\n",
            "Epoch 197/200\n",
            "2/2 [==============================] - 0s 359ms/step - loss: 7.7125 - accuracy: 0.5000 - val_loss: 1.5969 - val_accuracy: 0.5000\n",
            "Epoch 198/200\n",
            "2/2 [==============================] - 0s 364ms/step - loss: 7.7125 - accuracy: 0.5000 - val_loss: 1.6031 - val_accuracy: 0.5000\n",
            "Epoch 199/200\n",
            "2/2 [==============================] - 0s 374ms/step - loss: 7.7125 - accuracy: 0.5000 - val_loss: 1.6093 - val_accuracy: 0.5000\n",
            "Epoch 200/200\n",
            "2/2 [==============================] - 0s 171ms/step - loss: 7.7125 - accuracy: 0.5000 - val_loss: 1.6155 - val_accuracy: 0.5000\n"
          ]
        },
        {
          "data": {
            "text/plain": [
              "<keras.callbacks.History at 0x7fdbb01a4090>"
            ]
          },
          "execution_count": 24,
          "metadata": {},
          "output_type": "execute_result"
        }
      ],
      "source": [
        "model.fit(train, validation_data=test , epochs=200)"
      ]
    },
    {
      "cell_type": "code",
      "execution_count": null,
      "metadata": {
        "colab": {
          "base_uri": "https://localhost:8080/"
        },
        "id": "MU8Jff2M92_3",
        "outputId": "34c40cc3-c9d5-4630-df93-0646f2150910"
      },
      "outputs": [
        {
          "name": "stdout",
          "output_type": "stream",
          "text": [
            "1/1 [==============================] - 0s 309ms/step - loss: 1.6155 - accuracy: 0.5000\n"
          ]
        }
      ],
      "source": [
        "(test_loss, test_accuracy) = model.evaluate(test)"
      ]
    },
    {
      "cell_type": "code",
      "execution_count": null,
      "metadata": {
        "colab": {
          "base_uri": "https://localhost:8080/"
        },
        "id": "YdnowwYJ-vsj",
        "outputId": "30547f1e-0929-4593-d67d-29e44503788e"
      },
      "outputs": [
        {
          "data": {
            "text/plain": [
              "1.615509033203125"
            ]
          },
          "execution_count": 26,
          "metadata": {},
          "output_type": "execute_result"
        }
      ],
      "source": [
        "test_loss"
      ]
    },
    {
      "cell_type": "code",
      "execution_count": null,
      "metadata": {
        "colab": {
          "base_uri": "https://localhost:8080/"
        },
        "id": "gwLE_SQR-y0v",
        "outputId": "e9312315-f308-43f5-b83a-8bf80e98febb"
      },
      "outputs": [
        {
          "data": {
            "text/plain": [
              "0.5"
            ]
          },
          "execution_count": 27,
          "metadata": {},
          "output_type": "execute_result"
        }
      ],
      "source": [
        "test_accuracy"
      ]
    },
    {
      "cell_type": "code",
      "execution_count": null,
      "metadata": {
        "colab": {
          "base_uri": "https://localhost:8080/"
        },
        "id": "JoMfR7Mu-1BK",
        "outputId": "8f4d23b9-6595-4a35-d74f-56ed8d93496a"
      },
      "outputs": [
        {
          "name": "stdout",
          "output_type": "stream",
          "text": [
            "Epoch 1/300\n",
            "2/2 [==============================] - 1s 461ms/step - loss: 7.7125 - accuracy: 0.5000 - val_loss: 1.6218 - val_accuracy: 0.5000\n",
            "Epoch 2/300\n",
            "2/2 [==============================] - 0s 178ms/step - loss: 7.7125 - accuracy: 0.5000 - val_loss: 1.6280 - val_accuracy: 0.5000\n",
            "Epoch 3/300\n",
            "2/2 [==============================] - 0s 347ms/step - loss: 7.7125 - accuracy: 0.5000 - val_loss: 1.6343 - val_accuracy: 0.5000\n",
            "Epoch 4/300\n",
            "2/2 [==============================] - 0s 162ms/step - loss: 7.7125 - accuracy: 0.5000 - val_loss: 1.6406 - val_accuracy: 0.5000\n",
            "Epoch 5/300\n",
            "2/2 [==============================] - 0s 348ms/step - loss: 7.7125 - accuracy: 0.5000 - val_loss: 1.6469 - val_accuracy: 0.5000\n",
            "Epoch 6/300\n",
            "2/2 [==============================] - 0s 163ms/step - loss: 7.7125 - accuracy: 0.5000 - val_loss: 1.6533 - val_accuracy: 0.5000\n",
            "Epoch 7/300\n",
            "2/2 [==============================] - 1s 569ms/step - loss: 7.7125 - accuracy: 0.5000 - val_loss: 1.6597 - val_accuracy: 0.5000\n",
            "Epoch 8/300\n",
            "2/2 [==============================] - 1s 466ms/step - loss: 7.7125 - accuracy: 0.5000 - val_loss: 1.6661 - val_accuracy: 0.5000\n",
            "Epoch 9/300\n",
            "2/2 [==============================] - 0s 367ms/step - loss: 7.7125 - accuracy: 0.5000 - val_loss: 1.6725 - val_accuracy: 0.5000\n",
            "Epoch 10/300\n",
            "2/2 [==============================] - 0s 170ms/step - loss: 7.7125 - accuracy: 0.5000 - val_loss: 1.6790 - val_accuracy: 0.5000\n",
            "Epoch 11/300\n",
            "2/2 [==============================] - 0s 369ms/step - loss: 7.7125 - accuracy: 0.5000 - val_loss: 1.6855 - val_accuracy: 0.5000\n",
            "Epoch 12/300\n",
            "2/2 [==============================] - 0s 170ms/step - loss: 7.7125 - accuracy: 0.5000 - val_loss: 1.6919 - val_accuracy: 0.5000\n",
            "Epoch 13/300\n",
            "2/2 [==============================] - 0s 234ms/step - loss: 7.7125 - accuracy: 0.5000 - val_loss: 1.6985 - val_accuracy: 0.5000\n",
            "Epoch 14/300\n",
            "2/2 [==============================] - 0s 347ms/step - loss: 7.7125 - accuracy: 0.5000 - val_loss: 1.7050 - val_accuracy: 0.5000\n",
            "Epoch 15/300\n",
            "2/2 [==============================] - 0s 181ms/step - loss: 7.7125 - accuracy: 0.5000 - val_loss: 1.7116 - val_accuracy: 0.5000\n",
            "Epoch 16/300\n",
            "2/2 [==============================] - 1s 461ms/step - loss: 7.7125 - accuracy: 0.5000 - val_loss: 1.7182 - val_accuracy: 0.5000\n",
            "Epoch 17/300\n",
            "2/2 [==============================] - 0s 416ms/step - loss: 7.7125 - accuracy: 0.5000 - val_loss: 1.7249 - val_accuracy: 0.5000\n",
            "Epoch 18/300\n",
            "2/2 [==============================] - 0s 169ms/step - loss: 7.7125 - accuracy: 0.5000 - val_loss: 1.7315 - val_accuracy: 0.5000\n",
            "Epoch 19/300\n",
            "2/2 [==============================] - 0s 168ms/step - loss: 7.7125 - accuracy: 0.5000 - val_loss: 1.7382 - val_accuracy: 0.5000\n",
            "Epoch 20/300\n",
            "2/2 [==============================] - 0s 165ms/step - loss: 7.7125 - accuracy: 0.5000 - val_loss: 1.7449 - val_accuracy: 0.5000\n",
            "Epoch 21/300\n",
            "2/2 [==============================] - 0s 172ms/step - loss: 7.7125 - accuracy: 0.5000 - val_loss: 1.7517 - val_accuracy: 0.5000\n",
            "Epoch 22/300\n",
            "2/2 [==============================] - 0s 371ms/step - loss: 7.7125 - accuracy: 0.5000 - val_loss: 1.7584 - val_accuracy: 0.5000\n",
            "Epoch 23/300\n",
            "2/2 [==============================] - 0s 359ms/step - loss: 7.7125 - accuracy: 0.5000 - val_loss: 1.7652 - val_accuracy: 0.5000\n",
            "Epoch 24/300\n",
            "2/2 [==============================] - 0s 413ms/step - loss: 7.7125 - accuracy: 0.5000 - val_loss: 1.7721 - val_accuracy: 0.5000\n",
            "Epoch 25/300\n",
            "2/2 [==============================] - 0s 163ms/step - loss: 7.7125 - accuracy: 0.5000 - val_loss: 1.7789 - val_accuracy: 0.5000\n",
            "Epoch 26/300\n",
            "2/2 [==============================] - 0s 179ms/step - loss: 7.7125 - accuracy: 0.5000 - val_loss: 1.7858 - val_accuracy: 0.5000\n",
            "Epoch 27/300\n",
            "2/2 [==============================] - 0s 411ms/step - loss: 7.7125 - accuracy: 0.5000 - val_loss: 1.7927 - val_accuracy: 0.5000\n",
            "Epoch 28/300\n",
            "2/2 [==============================] - 1s 458ms/step - loss: 7.7125 - accuracy: 0.5000 - val_loss: 1.7996 - val_accuracy: 0.5000\n",
            "Epoch 29/300\n",
            "2/2 [==============================] - 1s 552ms/step - loss: 7.7125 - accuracy: 0.5000 - val_loss: 1.8066 - val_accuracy: 0.5000\n",
            "Epoch 30/300\n",
            "2/2 [==============================] - 0s 165ms/step - loss: 7.7125 - accuracy: 0.5000 - val_loss: 1.8135 - val_accuracy: 0.5000\n",
            "Epoch 31/300\n",
            "2/2 [==============================] - 1s 275ms/step - loss: 7.7125 - accuracy: 0.5000 - val_loss: 1.8206 - val_accuracy: 0.5000\n",
            "Epoch 32/300\n",
            "2/2 [==============================] - 0s 175ms/step - loss: 7.7125 - accuracy: 0.5000 - val_loss: 1.8276 - val_accuracy: 0.5000\n",
            "Epoch 33/300\n",
            "2/2 [==============================] - 1s 467ms/step - loss: 7.7125 - accuracy: 0.5000 - val_loss: 1.8346 - val_accuracy: 0.5000\n",
            "Epoch 34/300\n",
            "2/2 [==============================] - 0s 420ms/step - loss: 7.7125 - accuracy: 0.5000 - val_loss: 1.8417 - val_accuracy: 0.5000\n",
            "Epoch 35/300\n",
            "2/2 [==============================] - 1s 457ms/step - loss: 7.7125 - accuracy: 0.5000 - val_loss: 1.8489 - val_accuracy: 0.5000\n",
            "Epoch 36/300\n",
            "2/2 [==============================] - 0s 182ms/step - loss: 7.7125 - accuracy: 0.5000 - val_loss: 1.8560 - val_accuracy: 0.5000\n",
            "Epoch 37/300\n",
            "2/2 [==============================] - 0s 228ms/step - loss: 7.7125 - accuracy: 0.5000 - val_loss: 1.8632 - val_accuracy: 0.5000\n",
            "Epoch 38/300\n",
            "2/2 [==============================] - 0s 192ms/step - loss: 7.7125 - accuracy: 0.5000 - val_loss: 1.8704 - val_accuracy: 0.5000\n",
            "Epoch 39/300\n",
            "2/2 [==============================] - 0s 227ms/step - loss: 7.7125 - accuracy: 0.5000 - val_loss: 1.8777 - val_accuracy: 0.5000\n",
            "Epoch 40/300\n",
            "2/2 [==============================] - 0s 188ms/step - loss: 7.7125 - accuracy: 0.5000 - val_loss: 1.8849 - val_accuracy: 0.5000\n",
            "Epoch 41/300\n",
            "2/2 [==============================] - 1s 435ms/step - loss: 7.7125 - accuracy: 0.5000 - val_loss: 1.8922 - val_accuracy: 0.5000\n",
            "Epoch 42/300\n",
            "2/2 [==============================] - 0s 163ms/step - loss: 7.7125 - accuracy: 0.5000 - val_loss: 1.8995 - val_accuracy: 0.5000\n",
            "Epoch 43/300\n",
            "2/2 [==============================] - 0s 167ms/step - loss: 7.7125 - accuracy: 0.5000 - val_loss: 1.9068 - val_accuracy: 0.5000\n",
            "Epoch 44/300\n",
            "2/2 [==============================] - 0s 165ms/step - loss: 7.7125 - accuracy: 0.5000 - val_loss: 1.9142 - val_accuracy: 0.5000\n",
            "Epoch 45/300\n",
            "2/2 [==============================] - 0s 222ms/step - loss: 7.7125 - accuracy: 0.5000 - val_loss: 1.9216 - val_accuracy: 0.5000\n",
            "Epoch 46/300\n",
            "2/2 [==============================] - 0s 166ms/step - loss: 7.7125 - accuracy: 0.5000 - val_loss: 1.9290 - val_accuracy: 0.5000\n",
            "Epoch 47/300\n",
            "2/2 [==============================] - 0s 170ms/step - loss: 7.7125 - accuracy: 0.5000 - val_loss: 1.9364 - val_accuracy: 0.5000\n",
            "Epoch 48/300\n",
            "2/2 [==============================] - 1s 434ms/step - loss: 7.7125 - accuracy: 0.5000 - val_loss: 1.9439 - val_accuracy: 0.5000\n",
            "Epoch 49/300\n",
            "2/2 [==============================] - 0s 356ms/step - loss: 7.7125 - accuracy: 0.5000 - val_loss: 1.9514 - val_accuracy: 0.5000\n",
            "Epoch 50/300\n",
            "2/2 [==============================] - 0s 362ms/step - loss: 7.7125 - accuracy: 0.5000 - val_loss: 1.9589 - val_accuracy: 0.5000\n",
            "Epoch 51/300\n",
            "2/2 [==============================] - 0s 424ms/step - loss: 7.7125 - accuracy: 0.5000 - val_loss: 1.9665 - val_accuracy: 0.5000\n",
            "Epoch 52/300\n",
            "2/2 [==============================] - 0s 377ms/step - loss: 7.7125 - accuracy: 0.5000 - val_loss: 1.9741 - val_accuracy: 0.5000\n",
            "Epoch 53/300\n",
            "2/2 [==============================] - 0s 164ms/step - loss: 7.7125 - accuracy: 0.5000 - val_loss: 1.9817 - val_accuracy: 0.5000\n",
            "Epoch 54/300\n",
            "2/2 [==============================] - 0s 173ms/step - loss: 7.7125 - accuracy: 0.5000 - val_loss: 1.9893 - val_accuracy: 0.5000\n",
            "Epoch 55/300\n",
            "2/2 [==============================] - 1s 688ms/step - loss: 7.7125 - accuracy: 0.5000 - val_loss: 1.9970 - val_accuracy: 0.5000\n",
            "Epoch 56/300\n",
            "2/2 [==============================] - 0s 165ms/step - loss: 7.7125 - accuracy: 0.5000 - val_loss: 2.0046 - val_accuracy: 0.5000\n",
            "Epoch 57/300\n",
            "2/2 [==============================] - 0s 168ms/step - loss: 7.7125 - accuracy: 0.5000 - val_loss: 2.0124 - val_accuracy: 0.5000\n",
            "Epoch 58/300\n",
            "2/2 [==============================] - 1s 289ms/step - loss: 7.7125 - accuracy: 0.5000 - val_loss: 2.0201 - val_accuracy: 0.5000\n",
            "Epoch 59/300\n",
            "2/2 [==============================] - 0s 163ms/step - loss: 7.7125 - accuracy: 0.5000 - val_loss: 2.0279 - val_accuracy: 0.5000\n",
            "Epoch 60/300\n",
            "2/2 [==============================] - 0s 175ms/step - loss: 7.7125 - accuracy: 0.5000 - val_loss: 2.0357 - val_accuracy: 0.5000\n",
            "Epoch 61/300\n",
            "2/2 [==============================] - 0s 359ms/step - loss: 7.7125 - accuracy: 0.5000 - val_loss: 2.0435 - val_accuracy: 0.5000\n",
            "Epoch 62/300\n",
            "2/2 [==============================] - 1s 284ms/step - loss: 7.7125 - accuracy: 0.5000 - val_loss: 2.0513 - val_accuracy: 0.5000\n",
            "Epoch 63/300\n",
            "2/2 [==============================] - 0s 165ms/step - loss: 7.7125 - accuracy: 0.5000 - val_loss: 2.0593 - val_accuracy: 0.5000\n",
            "Epoch 64/300\n",
            "2/2 [==============================] - 0s 397ms/step - loss: 7.7125 - accuracy: 0.5000 - val_loss: 2.0671 - val_accuracy: 0.5000\n",
            "Epoch 65/300\n",
            "2/2 [==============================] - 0s 165ms/step - loss: 7.7125 - accuracy: 0.5000 - val_loss: 2.0750 - val_accuracy: 0.5000\n",
            "Epoch 66/300\n",
            "2/2 [==============================] - 0s 170ms/step - loss: 7.7125 - accuracy: 0.5000 - val_loss: 2.0830 - val_accuracy: 0.5000\n",
            "Epoch 67/300\n",
            "2/2 [==============================] - 0s 366ms/step - loss: 7.7125 - accuracy: 0.5000 - val_loss: 2.0909 - val_accuracy: 0.5000\n",
            "Epoch 68/300\n",
            "2/2 [==============================] - 1s 310ms/step - loss: 7.7125 - accuracy: 0.5000 - val_loss: 2.0990 - val_accuracy: 0.5000\n",
            "Epoch 69/300\n",
            "2/2 [==============================] - 0s 364ms/step - loss: 7.7125 - accuracy: 0.5000 - val_loss: 2.1070 - val_accuracy: 0.5000\n",
            "Epoch 70/300\n",
            "2/2 [==============================] - 0s 165ms/step - loss: 7.7125 - accuracy: 0.5000 - val_loss: 2.1151 - val_accuracy: 0.5000\n",
            "Epoch 71/300\n",
            "2/2 [==============================] - 0s 170ms/step - loss: 7.7125 - accuracy: 0.5000 - val_loss: 2.1232 - val_accuracy: 0.5000\n",
            "Epoch 72/300\n",
            "2/2 [==============================] - 0s 368ms/step - loss: 7.7125 - accuracy: 0.5000 - val_loss: 2.1313 - val_accuracy: 0.5000\n",
            "Epoch 73/300\n",
            "2/2 [==============================] - 0s 169ms/step - loss: 7.7125 - accuracy: 0.5000 - val_loss: 2.1395 - val_accuracy: 0.5000\n",
            "Epoch 74/300\n",
            "2/2 [==============================] - 0s 166ms/step - loss: 7.7125 - accuracy: 0.5000 - val_loss: 2.1476 - val_accuracy: 0.5000\n",
            "Epoch 75/300\n",
            "2/2 [==============================] - 0s 162ms/step - loss: 7.7125 - accuracy: 0.5000 - val_loss: 2.1558 - val_accuracy: 0.5000\n",
            "Epoch 76/300\n",
            "2/2 [==============================] - 0s 366ms/step - loss: 7.7125 - accuracy: 0.5000 - val_loss: 2.1639 - val_accuracy: 0.5000\n",
            "Epoch 77/300\n",
            "2/2 [==============================] - 0s 401ms/step - loss: 7.7125 - accuracy: 0.5000 - val_loss: 2.1722 - val_accuracy: 0.5000\n",
            "Epoch 78/300\n",
            "2/2 [==============================] - 1s 366ms/step - loss: 7.7125 - accuracy: 0.5000 - val_loss: 2.1805 - val_accuracy: 0.5000\n",
            "Epoch 79/300\n",
            "2/2 [==============================] - 1s 347ms/step - loss: 7.7125 - accuracy: 0.5000 - val_loss: 2.1888 - val_accuracy: 0.5000\n",
            "Epoch 80/300\n",
            "2/2 [==============================] - 0s 427ms/step - loss: 7.7125 - accuracy: 0.5000 - val_loss: 2.1970 - val_accuracy: 0.5000\n",
            "Epoch 81/300\n",
            "2/2 [==============================] - 0s 167ms/step - loss: 7.7125 - accuracy: 0.5000 - val_loss: 2.2054 - val_accuracy: 0.5000\n",
            "Epoch 82/300\n",
            "2/2 [==============================] - 0s 164ms/step - loss: 7.7125 - accuracy: 0.5000 - val_loss: 2.2137 - val_accuracy: 0.5000\n",
            "Epoch 83/300\n",
            "2/2 [==============================] - 0s 186ms/step - loss: 7.7125 - accuracy: 0.5000 - val_loss: 2.2221 - val_accuracy: 0.5000\n",
            "Epoch 84/300\n",
            "2/2 [==============================] - 0s 172ms/step - loss: 7.7125 - accuracy: 0.5000 - val_loss: 2.2305 - val_accuracy: 0.5000\n",
            "Epoch 85/300\n",
            "2/2 [==============================] - 0s 168ms/step - loss: 7.7125 - accuracy: 0.5000 - val_loss: 2.2389 - val_accuracy: 0.5000\n",
            "Epoch 86/300\n",
            "2/2 [==============================] - 0s 167ms/step - loss: 7.7125 - accuracy: 0.5000 - val_loss: 2.2474 - val_accuracy: 0.5000\n",
            "Epoch 87/300\n",
            "2/2 [==============================] - 0s 370ms/step - loss: 7.7125 - accuracy: 0.5000 - val_loss: 2.2559 - val_accuracy: 0.5000\n",
            "Epoch 88/300\n",
            "2/2 [==============================] - 0s 359ms/step - loss: 7.7125 - accuracy: 0.5000 - val_loss: 2.2643 - val_accuracy: 0.5000\n",
            "Epoch 89/300\n",
            "2/2 [==============================] - 0s 173ms/step - loss: 7.7125 - accuracy: 0.5000 - val_loss: 2.2728 - val_accuracy: 0.5000\n",
            "Epoch 90/300\n",
            "2/2 [==============================] - 0s 167ms/step - loss: 7.7125 - accuracy: 0.5000 - val_loss: 2.2813 - val_accuracy: 0.5000\n",
            "Epoch 91/300\n",
            "2/2 [==============================] - 0s 169ms/step - loss: 7.7125 - accuracy: 0.5000 - val_loss: 2.2898 - val_accuracy: 0.5000\n",
            "Epoch 92/300\n",
            "2/2 [==============================] - 0s 368ms/step - loss: 7.7125 - accuracy: 0.5000 - val_loss: 2.2984 - val_accuracy: 0.5000\n",
            "Epoch 93/300\n",
            "2/2 [==============================] - 0s 384ms/step - loss: 7.7125 - accuracy: 0.5000 - val_loss: 2.3069 - val_accuracy: 0.5000\n",
            "Epoch 94/300\n",
            "2/2 [==============================] - 0s 168ms/step - loss: 7.7125 - accuracy: 0.5000 - val_loss: 2.3156 - val_accuracy: 0.5000\n",
            "Epoch 95/300\n",
            "2/2 [==============================] - 0s 373ms/step - loss: 7.7125 - accuracy: 0.5000 - val_loss: 2.3242 - val_accuracy: 0.5000\n",
            "Epoch 96/300\n",
            "2/2 [==============================] - 0s 167ms/step - loss: 7.7125 - accuracy: 0.5000 - val_loss: 2.3329 - val_accuracy: 0.5000\n",
            "Epoch 97/300\n",
            "2/2 [==============================] - 0s 356ms/step - loss: 7.7125 - accuracy: 0.5000 - val_loss: 2.3416 - val_accuracy: 0.5000\n",
            "Epoch 98/300\n",
            "2/2 [==============================] - 0s 169ms/step - loss: 7.7125 - accuracy: 0.5000 - val_loss: 2.3503 - val_accuracy: 0.5000\n",
            "Epoch 99/300\n",
            "2/2 [==============================] - 0s 372ms/step - loss: 7.7125 - accuracy: 0.5000 - val_loss: 2.3590 - val_accuracy: 0.5000\n",
            "Epoch 100/300\n",
            "2/2 [==============================] - 0s 355ms/step - loss: 7.7125 - accuracy: 0.5000 - val_loss: 2.3678 - val_accuracy: 0.5000\n",
            "Epoch 101/300\n",
            "2/2 [==============================] - 0s 352ms/step - loss: 7.7125 - accuracy: 0.5000 - val_loss: 2.3765 - val_accuracy: 0.5000\n",
            "Epoch 102/300\n",
            "2/2 [==============================] - 0s 207ms/step - loss: 7.7125 - accuracy: 0.5000 - val_loss: 2.3852 - val_accuracy: 0.5000\n",
            "Epoch 103/300\n",
            "2/2 [==============================] - 1s 217ms/step - loss: 7.7125 - accuracy: 0.5000 - val_loss: 2.3940 - val_accuracy: 0.5000\n",
            "Epoch 104/300\n",
            "2/2 [==============================] - 1s 459ms/step - loss: 7.7125 - accuracy: 0.5000 - val_loss: 2.4027 - val_accuracy: 0.5000\n",
            "Epoch 105/300\n",
            "2/2 [==============================] - 1s 470ms/step - loss: 7.7125 - accuracy: 0.5000 - val_loss: 2.4115 - val_accuracy: 0.5000\n",
            "Epoch 106/300\n",
            "2/2 [==============================] - 1s 206ms/step - loss: 7.7125 - accuracy: 0.5000 - val_loss: 2.4203 - val_accuracy: 0.5000\n",
            "Epoch 107/300\n",
            "2/2 [==============================] - 1s 444ms/step - loss: 7.7125 - accuracy: 0.5000 - val_loss: 2.4292 - val_accuracy: 0.5000\n",
            "Epoch 108/300\n",
            "2/2 [==============================] - 0s 163ms/step - loss: 7.7125 - accuracy: 0.5000 - val_loss: 2.4381 - val_accuracy: 0.5000\n",
            "Epoch 109/300\n",
            "2/2 [==============================] - 0s 367ms/step - loss: 7.7125 - accuracy: 0.5000 - val_loss: 2.4471 - val_accuracy: 0.5000\n",
            "Epoch 110/300\n",
            "2/2 [==============================] - 0s 351ms/step - loss: 7.7125 - accuracy: 0.5000 - val_loss: 2.4559 - val_accuracy: 0.5000\n",
            "Epoch 111/300\n",
            "2/2 [==============================] - 0s 355ms/step - loss: 7.7125 - accuracy: 0.5000 - val_loss: 2.4649 - val_accuracy: 0.5000\n",
            "Epoch 112/300\n",
            "2/2 [==============================] - 0s 165ms/step - loss: 7.7125 - accuracy: 0.5000 - val_loss: 2.4739 - val_accuracy: 0.5000\n",
            "Epoch 113/300\n",
            "2/2 [==============================] - 0s 168ms/step - loss: 7.7125 - accuracy: 0.5000 - val_loss: 2.4828 - val_accuracy: 0.5000\n",
            "Epoch 114/300\n",
            "2/2 [==============================] - 0s 355ms/step - loss: 7.7125 - accuracy: 0.5000 - val_loss: 2.4918 - val_accuracy: 0.5000\n",
            "Epoch 115/300\n",
            "2/2 [==============================] - 0s 351ms/step - loss: 7.7125 - accuracy: 0.5000 - val_loss: 2.5008 - val_accuracy: 0.5000\n",
            "Epoch 116/300\n",
            "2/2 [==============================] - 0s 361ms/step - loss: 7.7125 - accuracy: 0.5000 - val_loss: 2.5098 - val_accuracy: 0.5000\n",
            "Epoch 117/300\n",
            "2/2 [==============================] - 0s 358ms/step - loss: 7.7125 - accuracy: 0.5000 - val_loss: 2.5189 - val_accuracy: 0.5000\n",
            "Epoch 118/300\n",
            "2/2 [==============================] - 0s 171ms/step - loss: 7.7125 - accuracy: 0.5000 - val_loss: 2.5280 - val_accuracy: 0.5000\n",
            "Epoch 119/300\n",
            "2/2 [==============================] - 0s 168ms/step - loss: 7.7125 - accuracy: 0.5000 - val_loss: 2.5371 - val_accuracy: 0.5000\n",
            "Epoch 120/300\n",
            "2/2 [==============================] - 0s 354ms/step - loss: 7.7125 - accuracy: 0.5000 - val_loss: 2.5462 - val_accuracy: 0.5000\n",
            "Epoch 121/300\n",
            "2/2 [==============================] - 0s 167ms/step - loss: 7.7125 - accuracy: 0.5000 - val_loss: 2.5553 - val_accuracy: 0.5000\n",
            "Epoch 122/300\n",
            "2/2 [==============================] - 0s 168ms/step - loss: 7.7125 - accuracy: 0.5000 - val_loss: 2.5643 - val_accuracy: 0.5000\n",
            "Epoch 123/300\n",
            "2/2 [==============================] - 0s 177ms/step - loss: 7.7125 - accuracy: 0.5000 - val_loss: 2.5734 - val_accuracy: 0.5000\n",
            "Epoch 124/300\n",
            "2/2 [==============================] - 0s 360ms/step - loss: 7.7125 - accuracy: 0.5000 - val_loss: 2.5826 - val_accuracy: 0.5000\n",
            "Epoch 125/300\n",
            "2/2 [==============================] - 0s 365ms/step - loss: 7.7125 - accuracy: 0.5000 - val_loss: 2.5918 - val_accuracy: 0.5000\n",
            "Epoch 126/300\n",
            "2/2 [==============================] - 0s 164ms/step - loss: 7.7125 - accuracy: 0.5000 - val_loss: 2.6009 - val_accuracy: 0.5000\n",
            "Epoch 127/300\n",
            "2/2 [==============================] - 0s 166ms/step - loss: 7.7125 - accuracy: 0.5000 - val_loss: 2.6101 - val_accuracy: 0.5000\n",
            "Epoch 128/300\n",
            "2/2 [==============================] - 0s 164ms/step - loss: 7.7125 - accuracy: 0.5000 - val_loss: 2.6192 - val_accuracy: 0.5000\n",
            "Epoch 129/300\n",
            "2/2 [==============================] - 0s 347ms/step - loss: 7.7125 - accuracy: 0.5000 - val_loss: 2.6284 - val_accuracy: 0.5000\n",
            "Epoch 130/300\n",
            "2/2 [==============================] - 0s 169ms/step - loss: 7.7125 - accuracy: 0.5000 - val_loss: 2.6377 - val_accuracy: 0.5000\n",
            "Epoch 131/300\n",
            "2/2 [==============================] - 0s 166ms/step - loss: 7.7125 - accuracy: 0.5000 - val_loss: 2.6470 - val_accuracy: 0.5000\n",
            "Epoch 132/300\n",
            "2/2 [==============================] - 0s 364ms/step - loss: 7.7125 - accuracy: 0.5000 - val_loss: 2.6563 - val_accuracy: 0.5000\n",
            "Epoch 133/300\n",
            "2/2 [==============================] - 0s 163ms/step - loss: 7.7125 - accuracy: 0.5000 - val_loss: 2.6654 - val_accuracy: 0.5000\n",
            "Epoch 134/300\n",
            "2/2 [==============================] - 0s 165ms/step - loss: 7.7125 - accuracy: 0.5000 - val_loss: 2.6749 - val_accuracy: 0.5000\n",
            "Epoch 135/300\n",
            "2/2 [==============================] - 0s 368ms/step - loss: 7.7125 - accuracy: 0.5000 - val_loss: 2.6841 - val_accuracy: 0.5000\n",
            "Epoch 136/300\n",
            "2/2 [==============================] - 0s 175ms/step - loss: 7.7125 - accuracy: 0.5000 - val_loss: 2.6933 - val_accuracy: 0.5000\n",
            "Epoch 137/300\n",
            "2/2 [==============================] - 0s 166ms/step - loss: 7.7125 - accuracy: 0.5000 - val_loss: 2.7027 - val_accuracy: 0.5000\n",
            "Epoch 138/300\n",
            "2/2 [==============================] - 0s 167ms/step - loss: 7.7125 - accuracy: 0.5000 - val_loss: 2.7120 - val_accuracy: 0.5000\n",
            "Epoch 139/300\n",
            "2/2 [==============================] - 0s 168ms/step - loss: 7.7125 - accuracy: 0.5000 - val_loss: 2.7213 - val_accuracy: 0.5000\n",
            "Epoch 140/300\n",
            "2/2 [==============================] - 0s 164ms/step - loss: 7.7125 - accuracy: 0.5000 - val_loss: 2.7306 - val_accuracy: 0.5000\n",
            "Epoch 141/300\n",
            "2/2 [==============================] - 0s 164ms/step - loss: 7.7125 - accuracy: 0.5000 - val_loss: 2.7400 - val_accuracy: 0.5000\n",
            "Epoch 142/300\n",
            "2/2 [==============================] - 0s 162ms/step - loss: 7.7125 - accuracy: 0.5000 - val_loss: 2.7494 - val_accuracy: 0.5000\n",
            "Epoch 143/300\n",
            "2/2 [==============================] - 0s 350ms/step - loss: 7.7125 - accuracy: 0.5000 - val_loss: 2.7587 - val_accuracy: 0.5000\n",
            "Epoch 144/300\n",
            "2/2 [==============================] - 0s 177ms/step - loss: 7.7125 - accuracy: 0.5000 - val_loss: 2.7682 - val_accuracy: 0.5000\n",
            "Epoch 145/300\n",
            "2/2 [==============================] - 0s 359ms/step - loss: 7.7125 - accuracy: 0.5000 - val_loss: 2.7775 - val_accuracy: 0.5000\n",
            "Epoch 146/300\n",
            "2/2 [==============================] - 0s 374ms/step - loss: 7.7125 - accuracy: 0.5000 - val_loss: 2.7871 - val_accuracy: 0.5000\n",
            "Epoch 147/300\n",
            "2/2 [==============================] - 0s 164ms/step - loss: 7.7125 - accuracy: 0.5000 - val_loss: 2.7964 - val_accuracy: 0.5000\n",
            "Epoch 148/300\n",
            "2/2 [==============================] - 0s 363ms/step - loss: 7.7125 - accuracy: 0.5000 - val_loss: 2.8059 - val_accuracy: 0.5000\n",
            "Epoch 149/300\n",
            "2/2 [==============================] - 0s 166ms/step - loss: 7.7125 - accuracy: 0.5000 - val_loss: 2.8153 - val_accuracy: 0.5000\n",
            "Epoch 150/300\n",
            "2/2 [==============================] - 0s 363ms/step - loss: 7.7125 - accuracy: 0.5000 - val_loss: 2.8246 - val_accuracy: 0.5000\n",
            "Epoch 151/300\n",
            "2/2 [==============================] - 0s 170ms/step - loss: 7.7125 - accuracy: 0.5000 - val_loss: 2.8344 - val_accuracy: 0.5000\n",
            "Epoch 152/300\n",
            "2/2 [==============================] - 0s 164ms/step - loss: 7.7125 - accuracy: 0.5000 - val_loss: 2.8438 - val_accuracy: 0.5000\n",
            "Epoch 153/300\n",
            "2/2 [==============================] - 0s 358ms/step - loss: 7.7125 - accuracy: 0.5000 - val_loss: 2.8534 - val_accuracy: 0.5000\n",
            "Epoch 154/300\n",
            "2/2 [==============================] - 0s 163ms/step - loss: 7.7125 - accuracy: 0.5000 - val_loss: 2.8626 - val_accuracy: 0.5000\n",
            "Epoch 155/300\n",
            "2/2 [==============================] - 0s 349ms/step - loss: 7.7125 - accuracy: 0.5000 - val_loss: 2.8723 - val_accuracy: 0.5000\n",
            "Epoch 156/300\n",
            "2/2 [==============================] - 0s 165ms/step - loss: 7.7125 - accuracy: 0.5000 - val_loss: 2.8819 - val_accuracy: 0.5000\n",
            "Epoch 157/300\n",
            "2/2 [==============================] - 0s 353ms/step - loss: 7.7125 - accuracy: 0.5000 - val_loss: 2.8913 - val_accuracy: 0.5000\n",
            "Epoch 158/300\n",
            "2/2 [==============================] - 0s 364ms/step - loss: 7.7125 - accuracy: 0.5000 - val_loss: 2.9010 - val_accuracy: 0.5000\n",
            "Epoch 159/300\n",
            "2/2 [==============================] - 0s 373ms/step - loss: 7.7125 - accuracy: 0.5000 - val_loss: 2.9105 - val_accuracy: 0.5000\n",
            "Epoch 160/300\n",
            "2/2 [==============================] - 0s 366ms/step - loss: 7.7125 - accuracy: 0.5000 - val_loss: 2.9202 - val_accuracy: 0.5000\n",
            "Epoch 161/300\n",
            "2/2 [==============================] - 0s 372ms/step - loss: 7.7125 - accuracy: 0.5000 - val_loss: 2.9297 - val_accuracy: 0.5000\n",
            "Epoch 162/300\n",
            "2/2 [==============================] - 0s 167ms/step - loss: 7.7125 - accuracy: 0.5000 - val_loss: 2.9394 - val_accuracy: 0.5000\n",
            "Epoch 163/300\n",
            "2/2 [==============================] - 0s 167ms/step - loss: 7.7125 - accuracy: 0.5000 - val_loss: 2.9490 - val_accuracy: 0.5000\n",
            "Epoch 164/300\n",
            "2/2 [==============================] - 0s 167ms/step - loss: 7.7125 - accuracy: 0.5000 - val_loss: 2.9584 - val_accuracy: 0.5000\n",
            "Epoch 165/300\n",
            "2/2 [==============================] - 0s 369ms/step - loss: 7.7125 - accuracy: 0.5000 - val_loss: 2.9684 - val_accuracy: 0.5000\n",
            "Epoch 166/300\n",
            "2/2 [==============================] - 0s 358ms/step - loss: 7.7125 - accuracy: 0.5000 - val_loss: 2.9778 - val_accuracy: 0.5000\n",
            "Epoch 167/300\n",
            "2/2 [==============================] - 0s 179ms/step - loss: 7.7125 - accuracy: 0.5000 - val_loss: 2.9871 - val_accuracy: 0.5000\n",
            "Epoch 168/300\n",
            "2/2 [==============================] - 0s 164ms/step - loss: 7.7125 - accuracy: 0.5000 - val_loss: 2.9969 - val_accuracy: 0.5000\n",
            "Epoch 169/300\n",
            "2/2 [==============================] - 0s 165ms/step - loss: 7.7125 - accuracy: 0.5000 - val_loss: 3.0068 - val_accuracy: 0.5000\n",
            "Epoch 170/300\n",
            "2/2 [==============================] - 0s 365ms/step - loss: 7.7125 - accuracy: 0.5000 - val_loss: 3.0163 - val_accuracy: 0.5000\n",
            "Epoch 171/300\n",
            "2/2 [==============================] - 0s 166ms/step - loss: 7.7125 - accuracy: 0.5000 - val_loss: 3.0258 - val_accuracy: 0.5000\n",
            "Epoch 172/300\n",
            "2/2 [==============================] - 0s 168ms/step - loss: 7.7125 - accuracy: 0.5000 - val_loss: 3.0356 - val_accuracy: 0.5000\n",
            "Epoch 173/300\n",
            "2/2 [==============================] - 0s 164ms/step - loss: 7.7125 - accuracy: 0.5000 - val_loss: 3.0456 - val_accuracy: 0.5000\n",
            "Epoch 174/300\n",
            "2/2 [==============================] - 0s 364ms/step - loss: 7.7125 - accuracy: 0.5000 - val_loss: 3.0549 - val_accuracy: 0.5000\n",
            "Epoch 175/300\n",
            "2/2 [==============================] - 0s 363ms/step - loss: 7.7125 - accuracy: 0.5000 - val_loss: 3.0644 - val_accuracy: 0.5000\n",
            "Epoch 176/300\n",
            "2/2 [==============================] - 0s 171ms/step - loss: 7.7125 - accuracy: 0.5000 - val_loss: 3.0741 - val_accuracy: 0.5000\n",
            "Epoch 177/300\n",
            "2/2 [==============================] - 0s 171ms/step - loss: 7.7125 - accuracy: 0.5000 - val_loss: 3.0844 - val_accuracy: 0.5000\n",
            "Epoch 178/300\n",
            "2/2 [==============================] - 0s 358ms/step - loss: 7.7125 - accuracy: 0.5000 - val_loss: 3.0940 - val_accuracy: 0.5000\n",
            "Epoch 179/300\n",
            "2/2 [==============================] - 0s 355ms/step - loss: 7.7125 - accuracy: 0.5000 - val_loss: 3.1033 - val_accuracy: 0.5000\n",
            "Epoch 180/300\n",
            "2/2 [==============================] - 0s 181ms/step - loss: 7.7125 - accuracy: 0.5000 - val_loss: 3.1133 - val_accuracy: 0.5000\n",
            "Epoch 181/300\n",
            "2/2 [==============================] - 0s 361ms/step - loss: 7.7125 - accuracy: 0.5000 - val_loss: 3.1230 - val_accuracy: 0.5000\n",
            "Epoch 182/300\n",
            "2/2 [==============================] - 0s 359ms/step - loss: 7.7125 - accuracy: 0.5000 - val_loss: 3.1334 - val_accuracy: 0.5000\n",
            "Epoch 183/300\n",
            "2/2 [==============================] - 0s 167ms/step - loss: 7.7125 - accuracy: 0.5000 - val_loss: 3.1425 - val_accuracy: 0.5000\n",
            "Epoch 184/300\n",
            "2/2 [==============================] - 0s 353ms/step - loss: 7.7125 - accuracy: 0.5000 - val_loss: 3.1523 - val_accuracy: 0.5000\n",
            "Epoch 185/300\n",
            "2/2 [==============================] - 0s 174ms/step - loss: 7.7125 - accuracy: 0.5000 - val_loss: 3.1623 - val_accuracy: 0.5000\n",
            "Epoch 186/300\n",
            "2/2 [==============================] - 0s 167ms/step - loss: 7.7125 - accuracy: 0.5000 - val_loss: 3.1719 - val_accuracy: 0.5000\n",
            "Epoch 187/300\n",
            "2/2 [==============================] - 0s 367ms/step - loss: 7.7125 - accuracy: 0.5000 - val_loss: 3.1823 - val_accuracy: 0.5000\n",
            "Epoch 188/300\n",
            "2/2 [==============================] - 0s 356ms/step - loss: 7.7125 - accuracy: 0.5000 - val_loss: 3.1918 - val_accuracy: 0.5000\n",
            "Epoch 189/300\n",
            "2/2 [==============================] - 0s 170ms/step - loss: 7.7125 - accuracy: 0.5000 - val_loss: 3.2015 - val_accuracy: 0.5000\n",
            "Epoch 190/300\n",
            "2/2 [==============================] - 0s 364ms/step - loss: 7.7125 - accuracy: 0.5000 - val_loss: 3.2113 - val_accuracy: 0.5000\n",
            "Epoch 191/300\n",
            "2/2 [==============================] - 0s 169ms/step - loss: 7.7125 - accuracy: 0.5000 - val_loss: 3.2214 - val_accuracy: 0.5000\n",
            "Epoch 192/300\n",
            "2/2 [==============================] - 0s 174ms/step - loss: 7.7125 - accuracy: 0.5000 - val_loss: 3.2316 - val_accuracy: 0.5000\n",
            "Epoch 193/300\n",
            "2/2 [==============================] - 0s 165ms/step - loss: 7.7125 - accuracy: 0.5000 - val_loss: 3.2408 - val_accuracy: 0.5000\n",
            "Epoch 194/300\n",
            "2/2 [==============================] - 0s 368ms/step - loss: 7.7125 - accuracy: 0.5000 - val_loss: 3.2502 - val_accuracy: 0.5000\n",
            "Epoch 195/300\n",
            "2/2 [==============================] - 0s 351ms/step - loss: 7.7125 - accuracy: 0.5000 - val_loss: 3.2598 - val_accuracy: 0.5000\n",
            "Epoch 196/300\n",
            "2/2 [==============================] - 0s 164ms/step - loss: 7.7125 - accuracy: 0.5000 - val_loss: 3.2696 - val_accuracy: 0.5000\n",
            "Epoch 197/300\n",
            "2/2 [==============================] - 0s 352ms/step - loss: 7.7125 - accuracy: 0.5000 - val_loss: 3.2796 - val_accuracy: 0.5000\n",
            "Epoch 198/300\n",
            "2/2 [==============================] - 0s 165ms/step - loss: 7.7125 - accuracy: 0.5000 - val_loss: 3.2897 - val_accuracy: 0.5000\n",
            "Epoch 199/300\n",
            "2/2 [==============================] - 0s 378ms/step - loss: 7.7125 - accuracy: 0.5000 - val_loss: 3.2994 - val_accuracy: 0.5000\n",
            "Epoch 200/300\n",
            "2/2 [==============================] - 0s 164ms/step - loss: 7.7125 - accuracy: 0.5000 - val_loss: 3.3093 - val_accuracy: 0.5000\n",
            "Epoch 201/300\n",
            "2/2 [==============================] - 0s 366ms/step - loss: 7.7125 - accuracy: 0.5000 - val_loss: 3.3186 - val_accuracy: 0.5000\n",
            "Epoch 202/300\n",
            "2/2 [==============================] - 0s 165ms/step - loss: 7.7125 - accuracy: 0.5000 - val_loss: 3.3281 - val_accuracy: 0.5000\n",
            "Epoch 203/300\n",
            "2/2 [==============================] - 0s 168ms/step - loss: 7.7125 - accuracy: 0.5000 - val_loss: 3.3379 - val_accuracy: 0.5000\n",
            "Epoch 204/300\n",
            "2/2 [==============================] - 0s 344ms/step - loss: 7.7125 - accuracy: 0.5000 - val_loss: 3.3485 - val_accuracy: 0.5000\n",
            "Epoch 205/300\n",
            "2/2 [==============================] - 0s 165ms/step - loss: 7.7125 - accuracy: 0.5000 - val_loss: 3.3587 - val_accuracy: 0.5000\n",
            "Epoch 206/300\n",
            "2/2 [==============================] - 0s 361ms/step - loss: 7.7125 - accuracy: 0.5000 - val_loss: 3.3682 - val_accuracy: 0.5000\n",
            "Epoch 207/300\n",
            "2/2 [==============================] - 0s 360ms/step - loss: 7.7125 - accuracy: 0.5000 - val_loss: 3.3779 - val_accuracy: 0.5000\n",
            "Epoch 208/300\n",
            "2/2 [==============================] - 0s 359ms/step - loss: 7.7125 - accuracy: 0.5000 - val_loss: 3.3870 - val_accuracy: 0.5000\n",
            "Epoch 209/300\n",
            "2/2 [==============================] - 0s 161ms/step - loss: 7.7125 - accuracy: 0.5000 - val_loss: 3.3971 - val_accuracy: 0.5000\n",
            "Epoch 210/300\n",
            "2/2 [==============================] - 0s 177ms/step - loss: 7.7125 - accuracy: 0.5000 - val_loss: 3.4065 - val_accuracy: 0.5000\n",
            "Epoch 211/300\n",
            "2/2 [==============================] - 0s 361ms/step - loss: 7.7125 - accuracy: 0.5000 - val_loss: 3.4170 - val_accuracy: 0.5000\n",
            "Epoch 212/300\n",
            "2/2 [==============================] - 0s 167ms/step - loss: 7.7125 - accuracy: 0.5000 - val_loss: 3.4268 - val_accuracy: 0.5000\n",
            "Epoch 213/300\n",
            "2/2 [==============================] - 0s 348ms/step - loss: 7.7125 - accuracy: 0.5000 - val_loss: 3.4377 - val_accuracy: 0.5000\n",
            "Epoch 214/300\n",
            "2/2 [==============================] - 0s 163ms/step - loss: 7.7125 - accuracy: 0.5000 - val_loss: 3.4480 - val_accuracy: 0.5000\n",
            "Epoch 215/300\n",
            "2/2 [==============================] - 0s 165ms/step - loss: 7.7125 - accuracy: 0.5000 - val_loss: 3.4575 - val_accuracy: 0.5000\n",
            "Epoch 216/300\n",
            "2/2 [==============================] - 0s 168ms/step - loss: 7.7125 - accuracy: 0.5000 - val_loss: 3.4662 - val_accuracy: 0.5000\n",
            "Epoch 217/300\n",
            "2/2 [==============================] - 0s 364ms/step - loss: 7.7125 - accuracy: 0.5000 - val_loss: 3.4760 - val_accuracy: 0.5000\n",
            "Epoch 218/300\n",
            "2/2 [==============================] - 0s 164ms/step - loss: 7.7125 - accuracy: 0.5000 - val_loss: 3.4851 - val_accuracy: 0.5000\n",
            "Epoch 219/300\n",
            "2/2 [==============================] - 0s 360ms/step - loss: 7.7125 - accuracy: 0.5000 - val_loss: 3.4953 - val_accuracy: 0.5000\n",
            "Epoch 220/300\n",
            "2/2 [==============================] - 0s 170ms/step - loss: 7.7125 - accuracy: 0.5000 - val_loss: 3.5057 - val_accuracy: 0.5000\n",
            "Epoch 221/300\n",
            "2/2 [==============================] - 0s 163ms/step - loss: 7.7125 - accuracy: 0.5000 - val_loss: 3.5153 - val_accuracy: 0.5000\n",
            "Epoch 222/300\n",
            "2/2 [==============================] - 0s 354ms/step - loss: 7.7125 - accuracy: 0.5000 - val_loss: 3.5262 - val_accuracy: 0.5000\n",
            "Epoch 223/300\n",
            "2/2 [==============================] - 0s 353ms/step - loss: 7.7125 - accuracy: 0.5000 - val_loss: 3.5362 - val_accuracy: 0.5000\n",
            "Epoch 224/300\n",
            "2/2 [==============================] - 0s 368ms/step - loss: 7.7125 - accuracy: 0.5000 - val_loss: 3.5476 - val_accuracy: 0.5000\n",
            "Epoch 225/300\n",
            "2/2 [==============================] - 0s 167ms/step - loss: 7.7125 - accuracy: 0.5000 - val_loss: 3.5569 - val_accuracy: 0.5000\n",
            "Epoch 226/300\n",
            "2/2 [==============================] - 0s 355ms/step - loss: 7.7125 - accuracy: 0.5000 - val_loss: 3.5651 - val_accuracy: 0.5000\n",
            "Epoch 227/300\n",
            "2/2 [==============================] - 0s 359ms/step - loss: 7.7125 - accuracy: 0.5000 - val_loss: 3.5747 - val_accuracy: 0.5000\n",
            "Epoch 228/300\n",
            "2/2 [==============================] - 0s 356ms/step - loss: 7.7125 - accuracy: 0.5000 - val_loss: 3.5845 - val_accuracy: 0.5000\n",
            "Epoch 229/300\n",
            "2/2 [==============================] - 0s 163ms/step - loss: 7.7125 - accuracy: 0.5000 - val_loss: 3.5945 - val_accuracy: 0.5000\n",
            "Epoch 230/300\n",
            "2/2 [==============================] - 0s 362ms/step - loss: 7.7125 - accuracy: 0.5000 - val_loss: 3.6034 - val_accuracy: 0.5000\n",
            "Epoch 231/300\n",
            "2/2 [==============================] - 0s 164ms/step - loss: 7.7125 - accuracy: 0.5000 - val_loss: 3.6138 - val_accuracy: 0.5000\n",
            "Epoch 232/300\n",
            "2/2 [==============================] - 0s 359ms/step - loss: 7.7125 - accuracy: 0.5000 - val_loss: 3.6244 - val_accuracy: 0.5000\n",
            "Epoch 233/300\n",
            "2/2 [==============================] - 0s 174ms/step - loss: 7.7125 - accuracy: 0.5000 - val_loss: 3.6339 - val_accuracy: 0.5000\n",
            "Epoch 234/300\n",
            "2/2 [==============================] - 0s 167ms/step - loss: 7.7125 - accuracy: 0.5000 - val_loss: 3.6449 - val_accuracy: 0.5000\n",
            "Epoch 235/300\n",
            "2/2 [==============================] - 0s 357ms/step - loss: 7.7125 - accuracy: 0.5000 - val_loss: 3.6562 - val_accuracy: 0.5000\n",
            "Epoch 236/300\n",
            "2/2 [==============================] - 0s 368ms/step - loss: 7.7125 - accuracy: 0.5000 - val_loss: 3.6677 - val_accuracy: 0.5000\n",
            "Epoch 237/300\n",
            "2/2 [==============================] - 0s 167ms/step - loss: 7.7125 - accuracy: 0.5000 - val_loss: 3.6766 - val_accuracy: 0.5000\n",
            "Epoch 238/300\n",
            "2/2 [==============================] - 0s 171ms/step - loss: 7.7125 - accuracy: 0.5000 - val_loss: 3.6856 - val_accuracy: 0.5000\n",
            "Epoch 239/300\n",
            "2/2 [==============================] - 0s 170ms/step - loss: 7.7125 - accuracy: 0.5000 - val_loss: 3.6948 - val_accuracy: 0.5000\n",
            "Epoch 240/300\n",
            "2/2 [==============================] - 0s 182ms/step - loss: 7.7125 - accuracy: 0.5000 - val_loss: 3.7041 - val_accuracy: 0.5000\n",
            "Epoch 241/300\n",
            "2/2 [==============================] - 0s 373ms/step - loss: 7.7125 - accuracy: 0.5000 - val_loss: 3.7136 - val_accuracy: 0.5000\n",
            "Epoch 242/300\n",
            "2/2 [==============================] - 0s 369ms/step - loss: 7.7125 - accuracy: 0.5000 - val_loss: 3.7233 - val_accuracy: 0.5000\n",
            "Epoch 243/300\n",
            "2/2 [==============================] - 0s 370ms/step - loss: 7.7125 - accuracy: 0.5000 - val_loss: 3.7315 - val_accuracy: 0.5000\n",
            "Epoch 244/300\n",
            "2/2 [==============================] - 0s 169ms/step - loss: 7.7125 - accuracy: 0.5000 - val_loss: 3.7416 - val_accuracy: 0.5000\n",
            "Epoch 245/300\n",
            "2/2 [==============================] - 0s 381ms/step - loss: 7.7125 - accuracy: 0.5000 - val_loss: 3.7519 - val_accuracy: 0.5000\n",
            "Epoch 246/300\n",
            "2/2 [==============================] - 0s 370ms/step - loss: 7.7125 - accuracy: 0.5000 - val_loss: 3.7624 - val_accuracy: 0.5000\n",
            "Epoch 247/300\n",
            "2/2 [==============================] - 0s 380ms/step - loss: 7.7125 - accuracy: 0.5000 - val_loss: 3.7731 - val_accuracy: 0.5000\n",
            "Epoch 248/300\n",
            "2/2 [==============================] - 0s 371ms/step - loss: 7.7125 - accuracy: 0.5000 - val_loss: 3.7822 - val_accuracy: 0.5000\n",
            "Epoch 249/300\n",
            "2/2 [==============================] - 0s 365ms/step - loss: 7.7125 - accuracy: 0.5000 - val_loss: 3.7933 - val_accuracy: 0.5000\n",
            "Epoch 250/300\n",
            "2/2 [==============================] - 0s 368ms/step - loss: 7.7125 - accuracy: 0.5000 - val_loss: 3.8047 - val_accuracy: 0.5000\n",
            "Epoch 251/300\n",
            "2/2 [==============================] - 0s 185ms/step - loss: 7.7125 - accuracy: 0.5000 - val_loss: 3.8164 - val_accuracy: 0.5000\n",
            "Epoch 252/300\n",
            "2/2 [==============================] - 0s 356ms/step - loss: 7.7125 - accuracy: 0.5000 - val_loss: 3.8283 - val_accuracy: 0.5000\n",
            "Epoch 253/300\n",
            "2/2 [==============================] - 0s 170ms/step - loss: 7.7125 - accuracy: 0.5000 - val_loss: 3.8385 - val_accuracy: 0.5000\n",
            "Epoch 254/300\n",
            "2/2 [==============================] - 0s 168ms/step - loss: 7.7125 - accuracy: 0.5000 - val_loss: 3.8468 - val_accuracy: 0.5000\n",
            "Epoch 255/300\n",
            "2/2 [==============================] - 1s 352ms/step - loss: 7.7125 - accuracy: 0.5000 - val_loss: 3.8552 - val_accuracy: 0.5000\n",
            "Epoch 256/300\n",
            "2/2 [==============================] - 1s 493ms/step - loss: 7.7125 - accuracy: 0.5000 - val_loss: 3.8616 - val_accuracy: 0.5000\n",
            "Epoch 257/300\n",
            "2/2 [==============================] - 1s 505ms/step - loss: 7.7125 - accuracy: 0.5000 - val_loss: 3.8703 - val_accuracy: 0.5000\n",
            "Epoch 258/300\n",
            "2/2 [==============================] - 0s 367ms/step - loss: 7.7125 - accuracy: 0.5000 - val_loss: 3.8792 - val_accuracy: 0.5000\n",
            "Epoch 259/300\n",
            "2/2 [==============================] - 0s 168ms/step - loss: 7.7125 - accuracy: 0.5000 - val_loss: 3.8882 - val_accuracy: 0.5000\n",
            "Epoch 260/300\n",
            "2/2 [==============================] - 0s 171ms/step - loss: 7.7125 - accuracy: 0.5000 - val_loss: 3.8973 - val_accuracy: 0.5000\n",
            "Epoch 261/300\n",
            "2/2 [==============================] - 0s 162ms/step - loss: 7.7125 - accuracy: 0.5000 - val_loss: 3.9067 - val_accuracy: 0.5000\n",
            "Epoch 262/300\n",
            "2/2 [==============================] - 0s 359ms/step - loss: 7.7125 - accuracy: 0.5000 - val_loss: 3.9162 - val_accuracy: 0.5000\n",
            "Epoch 263/300\n",
            "2/2 [==============================] - 0s 363ms/step - loss: 7.7125 - accuracy: 0.5000 - val_loss: 3.9259 - val_accuracy: 0.5000\n",
            "Epoch 264/300\n",
            "2/2 [==============================] - 0s 370ms/step - loss: 7.7125 - accuracy: 0.5000 - val_loss: 3.9358 - val_accuracy: 0.5000\n",
            "Epoch 265/300\n",
            "2/2 [==============================] - 0s 360ms/step - loss: 7.7125 - accuracy: 0.5000 - val_loss: 3.9459 - val_accuracy: 0.5000\n",
            "Epoch 266/300\n",
            "2/2 [==============================] - 0s 381ms/step - loss: 7.7125 - accuracy: 0.5000 - val_loss: 3.9536 - val_accuracy: 0.5000\n",
            "Epoch 267/300\n",
            "2/2 [==============================] - 0s 164ms/step - loss: 7.7125 - accuracy: 0.5000 - val_loss: 3.9641 - val_accuracy: 0.5000\n",
            "Epoch 268/300\n",
            "2/2 [==============================] - 0s 359ms/step - loss: 7.7125 - accuracy: 0.5000 - val_loss: 3.9748 - val_accuracy: 0.5000\n",
            "Epoch 269/300\n",
            "2/2 [==============================] - 0s 164ms/step - loss: 7.7125 - accuracy: 0.5000 - val_loss: 3.9857 - val_accuracy: 0.5000\n",
            "Epoch 270/300\n",
            "2/2 [==============================] - 0s 353ms/step - loss: 7.7125 - accuracy: 0.5000 - val_loss: 3.9968 - val_accuracy: 0.5000\n",
            "Epoch 271/300\n",
            "2/2 [==============================] - 0s 170ms/step - loss: 7.7125 - accuracy: 0.5000 - val_loss: 4.0083 - val_accuracy: 0.5000\n",
            "Epoch 272/300\n",
            "2/2 [==============================] - 0s 366ms/step - loss: 7.7125 - accuracy: 0.5000 - val_loss: 4.0200 - val_accuracy: 0.5000\n",
            "Epoch 273/300\n",
            "2/2 [==============================] - 0s 366ms/step - loss: 7.7125 - accuracy: 0.5000 - val_loss: 4.0319 - val_accuracy: 0.5000\n",
            "Epoch 274/300\n",
            "2/2 [==============================] - 0s 167ms/step - loss: 7.7125 - accuracy: 0.5000 - val_loss: 4.0442 - val_accuracy: 0.5000\n",
            "Epoch 275/300\n",
            "2/2 [==============================] - 0s 358ms/step - loss: 7.7125 - accuracy: 0.5000 - val_loss: 4.0568 - val_accuracy: 0.5000\n",
            "Epoch 276/300\n",
            "2/2 [==============================] - 0s 364ms/step - loss: 7.7125 - accuracy: 0.5000 - val_loss: 4.0697 - val_accuracy: 0.5000\n",
            "Epoch 277/300\n",
            "2/2 [==============================] - 0s 363ms/step - loss: 7.7125 - accuracy: 0.5000 - val_loss: 4.0795 - val_accuracy: 0.5000\n",
            "Epoch 278/300\n",
            "2/2 [==============================] - 0s 361ms/step - loss: 7.7125 - accuracy: 0.5000 - val_loss: 4.0931 - val_accuracy: 0.5000\n",
            "Epoch 279/300\n",
            "2/2 [==============================] - 0s 371ms/step - loss: 7.7125 - accuracy: 0.5000 - val_loss: 4.0999 - val_accuracy: 0.5000\n",
            "Epoch 280/300\n",
            "2/2 [==============================] - 0s 366ms/step - loss: 7.7125 - accuracy: 0.5000 - val_loss: 4.1069 - val_accuracy: 0.5000\n",
            "Epoch 281/300\n",
            "2/2 [==============================] - 0s 365ms/step - loss: 7.7125 - accuracy: 0.5000 - val_loss: 4.1140 - val_accuracy: 0.5000\n",
            "Epoch 282/300\n",
            "2/2 [==============================] - 0s 163ms/step - loss: 7.7125 - accuracy: 0.5000 - val_loss: 4.1212 - val_accuracy: 0.5000\n",
            "Epoch 283/300\n",
            "2/2 [==============================] - 0s 355ms/step - loss: 7.7125 - accuracy: 0.5000 - val_loss: 4.1285 - val_accuracy: 0.5000\n",
            "Epoch 284/300\n",
            "2/2 [==============================] - 0s 168ms/step - loss: 7.7125 - accuracy: 0.5000 - val_loss: 4.1359 - val_accuracy: 0.5000\n",
            "Epoch 285/300\n",
            "2/2 [==============================] - 0s 353ms/step - loss: 7.7125 - accuracy: 0.5000 - val_loss: 4.1434 - val_accuracy: 0.5000\n",
            "Epoch 286/300\n",
            "2/2 [==============================] - 0s 165ms/step - loss: 7.7125 - accuracy: 0.5000 - val_loss: 4.1511 - val_accuracy: 0.5000\n",
            "Epoch 287/300\n",
            "2/2 [==============================] - 0s 362ms/step - loss: 7.7125 - accuracy: 0.5000 - val_loss: 4.1588 - val_accuracy: 0.5000\n",
            "Epoch 288/300\n",
            "2/2 [==============================] - 0s 358ms/step - loss: 7.7125 - accuracy: 0.5000 - val_loss: 4.1667 - val_accuracy: 0.5000\n",
            "Epoch 289/300\n",
            "2/2 [==============================] - 0s 164ms/step - loss: 7.7125 - accuracy: 0.5000 - val_loss: 4.1747 - val_accuracy: 0.5000\n",
            "Epoch 290/300\n",
            "2/2 [==============================] - 0s 172ms/step - loss: 7.7125 - accuracy: 0.5000 - val_loss: 4.1828 - val_accuracy: 0.5000\n",
            "Epoch 291/300\n",
            "2/2 [==============================] - 0s 163ms/step - loss: 7.7125 - accuracy: 0.5000 - val_loss: 4.1910 - val_accuracy: 0.5000\n",
            "Epoch 292/300\n",
            "2/2 [==============================] - 0s 357ms/step - loss: 7.7125 - accuracy: 0.5000 - val_loss: 4.1994 - val_accuracy: 0.5000\n",
            "Epoch 293/300\n",
            "2/2 [==============================] - 0s 178ms/step - loss: 7.7125 - accuracy: 0.5000 - val_loss: 4.2080 - val_accuracy: 0.5000\n",
            "Epoch 294/300\n",
            "2/2 [==============================] - 0s 166ms/step - loss: 7.7125 - accuracy: 0.5000 - val_loss: 4.2167 - val_accuracy: 0.5000\n",
            "Epoch 295/300\n",
            "2/2 [==============================] - 0s 168ms/step - loss: 7.7125 - accuracy: 0.5000 - val_loss: 4.2255 - val_accuracy: 0.5000\n",
            "Epoch 296/300\n",
            "2/2 [==============================] - 0s 168ms/step - loss: 7.7125 - accuracy: 0.5000 - val_loss: 4.2345 - val_accuracy: 0.5000\n",
            "Epoch 297/300\n",
            "2/2 [==============================] - 0s 396ms/step - loss: 7.7125 - accuracy: 0.5000 - val_loss: 4.2437 - val_accuracy: 0.5000\n",
            "Epoch 298/300\n",
            "2/2 [==============================] - 0s 162ms/step - loss: 7.7125 - accuracy: 0.5000 - val_loss: 4.2530 - val_accuracy: 0.5000\n",
            "Epoch 299/300\n",
            "2/2 [==============================] - 0s 383ms/step - loss: 7.7125 - accuracy: 0.5000 - val_loss: 4.2625 - val_accuracy: 0.5000\n",
            "Epoch 300/300\n",
            "2/2 [==============================] - 0s 166ms/step - loss: 7.7125 - accuracy: 0.5000 - val_loss: 4.2723 - val_accuracy: 0.5000\n"
          ]
        },
        {
          "data": {
            "text/plain": [
              "<keras.callbacks.History at 0x7fdbb013e850>"
            ]
          },
          "execution_count": 28,
          "metadata": {},
          "output_type": "execute_result"
        }
      ],
      "source": [
        "model.fit(train, validation_data=test , epochs=300)"
      ]
    },
    {
      "cell_type": "code",
      "execution_count": null,
      "metadata": {
        "colab": {
          "base_uri": "https://localhost:8080/"
        },
        "id": "qd-5r9Hl-7ZI",
        "outputId": "925445bd-c961-417a-951e-3def6b26a440"
      },
      "outputs": [
        {
          "name": "stdout",
          "output_type": "stream",
          "text": [
            "1/1 [==============================] - 0s 142ms/step - loss: 4.2723 - accuracy: 0.5000\n"
          ]
        }
      ],
      "source": [
        "(test_loss, test_accuracy) = model.evaluate(test)"
      ]
    },
    {
      "cell_type": "code",
      "execution_count": null,
      "metadata": {
        "colab": {
          "base_uri": "https://localhost:8080/"
        },
        "id": "FGuiBIlZ_fgm",
        "outputId": "0cc8265c-6be4-465f-94de-52de1e1da55c"
      },
      "outputs": [
        {
          "data": {
            "text/plain": [
              "4.272252082824707"
            ]
          },
          "execution_count": 30,
          "metadata": {},
          "output_type": "execute_result"
        }
      ],
      "source": [
        "test_loss"
      ]
    },
    {
      "cell_type": "code",
      "execution_count": null,
      "metadata": {
        "colab": {
          "base_uri": "https://localhost:8080/"
        },
        "id": "jLdT8nJd_iPR",
        "outputId": "ea7e1883-c4e2-454a-95ec-8e0c84254893"
      },
      "outputs": [
        {
          "data": {
            "text/plain": [
              "0.5"
            ]
          },
          "execution_count": 31,
          "metadata": {},
          "output_type": "execute_result"
        }
      ],
      "source": [
        "test_accuracy"
      ]
    },
    {
      "cell_type": "code",
      "execution_count": null,
      "metadata": {
        "id": "IjJOp_qG_lLH"
      },
      "outputs": [],
      "source": [
        ""
      ]
    }
  ],
  "metadata": {
    "accelerator": "GPU",
    "colab": {
      "name": "Pet_Classification_Model_Using_CNN_PFFS.ipynb",
      "provenance": [],
      "include_colab_link": true
    },
    "gpuClass": "standard",
    "kernelspec": {
      "display_name": "Python 3 (ipykernel)",
      "language": "python",
      "name": "python3"
    },
    "language_info": {
      "codemirror_mode": {
        "name": "ipython",
        "version": 3
      },
      "file_extension": ".py",
      "mimetype": "text/x-python",
      "name": "python",
      "nbconvert_exporter": "python",
      "pygments_lexer": "ipython3",
      "version": "3.9.7"
    }
  },
  "nbformat": 4,
  "nbformat_minor": 0
}